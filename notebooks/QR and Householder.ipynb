{
 "cells": [
  {
   "cell_type": "code",
   "execution_count": 431,
   "metadata": {},
   "outputs": [],
   "source": [
    "using Revise\n",
    "using LinearAlgebra\n",
    "using Statistics\n",
    "using BenchmarkTools\n",
    "using OrthoMatchPursuit\n",
    "using BlockDiagonal"
   ]
  },
  {
   "cell_type": "code",
   "execution_count": 234,
   "metadata": {},
   "outputs": [
    {
     "name": "stdout",
     "output_type": "stream",
     "text": [
      "norm(b) = 1.9387212353251706\n",
      "Hb = [-1.9387212353251708; 2.220446049250313e-16; -2.220446049250313e-16; -1.1102230246251565e-16; 1.1102230246251565e-16]\n",
      "norm(bcopy) = 1.9387212353251706\n",
      "-(norm(bcopy)) * sign(bcopy[1]) = -1.9387212353251706\n"
     ]
    }
   ],
   "source": [
    "# b = randn(5)\n",
    "# @show norm(b)\n",
    "# v = deepcopy(b)\n",
    "# bcopy = deepcopy(b)\n",
    "\n",
    "# τ = deepcopy(LinearAlgebra.reflector!(v))\n",
    "\n",
    "# Hb = LinearAlgebra.reflectorApply!(v, τ, repeat(b, 1, 1))\n",
    "\n",
    "# @show Hb\n",
    "# @show norm(bcopy)\n",
    "# @show -norm(bcopy)*sign(bcopy[1]);"
   ]
  },
  {
   "cell_type": "code",
   "execution_count": 432,
   "metadata": {},
   "outputs": [
    {
     "name": "stderr",
     "output_type": "stream",
     "text": [
      "┌ Error: Failed to revise /media/mat/HDD/QROMP/src/QROMP.jl\n",
      "│   exception = (LoadError(\"/media/mat/HDD/QROMP/src/omp.jl\", 2, \"extra token \\\"qromp\\\" after end of expression\"), Union{Ptr{Nothing}, Base.InterpreterIP}[Ptr{Nothing} @0x00007f3f06d09d6f])\n",
      "└ @ Revise /home/mat/.julia/packages/Revise/VxkZO/src/packagedef.jl:709\n",
      "┌ Warning: The running code does not match the saved version for the following files:\n",
      "│ \n",
      "│   /media/mat/HDD/QROMP/src/QROMP.jl\n",
      "│ \n",
      "│ If the error was due to evaluation order, it can sometimes be resolved by calling `Revise.retry()`.\n",
      "│ Use Revise.errors() to report errors again. Only the first error in each file is shown.\n",
      "│ Your prompt color may be yellow until the errors are resolved.\n",
      "└ @ Revise /home/mat/.julia/packages/Revise/VxkZO/src/packagedef.jl:805\n"
     ]
    },
    {
     "data": {
      "text/plain": [
       "10-element Array{Float64,1}:\n",
       "  0.5986771487001168\n",
       " -0.5156746056068436\n",
       " -1.1611010088921945\n",
       " -0.3012604575660464\n",
       "  0.7900111214585174\n",
       "  0.4528742221821375\n",
       "  0.7672310779923338\n",
       "  0.43162597595934865\n",
       "  0.08571135210296504\n",
       "  1.408885724403851"
      ]
     },
     "execution_count": 432,
     "metadata": {},
     "output_type": "execute_result"
    }
   ],
   "source": [
    "A = randn(10,3)\n",
    "a = randn(10)\n",
    "x = randn(10)"
   ]
  },
  {
   "cell_type": "code",
   "execution_count": 433,
   "metadata": {},
   "outputs": [
    {
     "name": "stderr",
     "output_type": "stream",
     "text": [
      "┌ Error: Failed to revise /media/mat/HDD/QROMP/src/QROMP.jl\n",
      "│   exception = (LoadError(\"/media/mat/HDD/QROMP/src/omp.jl\", 2, \"extra token \\\"qromp\\\" after end of expression\"), Union{Ptr{Nothing}, Base.InterpreterIP}[Ptr{Nothing} @0x00007f3f06d09d6f])\n",
      "└ @ Revise /home/mat/.julia/packages/Revise/VxkZO/src/packagedef.jl:709\n"
     ]
    }
   ],
   "source": [
    "Revise.errors()"
   ]
  },
  {
   "cell_type": "code",
   "execution_count": 444,
   "metadata": {},
   "outputs": [],
   "source": [
    "e3 = zeros(3)\n",
    "e3[3] = 1.0;"
   ]
  },
  {
   "cell_type": "code",
   "execution_count": null,
   "metadata": {},
   "outputs": [],
   "source": [
    "F.Q"
   ]
  },
  {
   "cell_type": "code",
   "execution_count": 445,
   "metadata": {},
   "outputs": [
    {
     "name": "stdout",
     "output_type": "stream",
     "text": [
      "  0.000018 seconds (6 allocations: 33.266 KiB)\n"
     ]
    },
    {
     "data": {
      "text/plain": [
       "10-element Array{Float64,1}:\n",
       "  0.06191472674149346\n",
       " -0.1640317263698367\n",
       " -0.11725278744850189\n",
       "  0.046235669654531616\n",
       " -0.26444855813209905\n",
       " -0.5344310477549761\n",
       "  0.1748911301891737\n",
       " -0.41511678634223265\n",
       "  0.1529498323492136\n",
       "  0.609526140869759"
      ]
     },
     "execution_count": 445,
     "metadata": {},
     "output_type": "execute_result"
    }
   ],
   "source": [
    "@time F.Q*e3"
   ]
  },
  {
   "cell_type": "code",
   "execution_count": 435,
   "metadata": {},
   "outputs": [
    {
     "data": {
      "text/plain": [
       "QR{Float64,Array{Float64,2}}\n",
       "Q factor:\n",
       "10×10 LinearAlgebra.QRPackedQ{Float64,Array{Float64,2}}:\n",
       " -0.457073  -0.103649    0.0619147  …  -0.259563    0.174161    -0.0796082\n",
       "  0.207095  -0.352342   -0.164032       0.459939   -0.505941     0.414787\n",
       "  0.111411  -0.0495328  -0.117253      -0.445225    0.188201     0.584809\n",
       "  0.183859   0.0903155   0.0462357      0.0286187  -0.00386806  -0.035748\n",
       "  0.610597   0.51292    -0.264449      -0.163912    0.150773     0.0430183\n",
       " -0.201844  -0.220646   -0.534431   …  -0.198959    0.0556882    0.313766\n",
       "  0.235763   0.0285814   0.174891       0.118486   -0.060827    -0.0838439\n",
       " -0.34952    0.44087    -0.415117       0.58281     0.302516     0.0887034\n",
       "  0.280689  -0.480824    0.15295        0.301781    0.745723     0.0505079\n",
       " -0.178538   0.34111     0.609526       0.103961    0.033247     0.600488\n",
       "R factor:\n",
       "3×3 Array{Float64,2}:\n",
       " -2.89513   0.809285   0.240199\n",
       "  0.0      -2.90613   -0.78468\n",
       "  0.0       0.0       -2.41183"
      ]
     },
     "execution_count": 435,
     "metadata": {},
     "output_type": "execute_result"
    }
   ],
   "source": [
    "mul!()"
   ]
  },
  {
   "cell_type": "code",
   "execution_count": 408,
   "metadata": {},
   "outputs": [
    {
     "data": {
      "text/plain": [
       "10-element Array{Float64,1}:\n",
       "  0.8535433542386791\n",
       " -0.12131465381844189\n",
       " -0.06526407278195857\n",
       " -0.10770312613985521\n",
       " -0.35768382364888446\n",
       "  0.11823890871974659\n",
       " -0.1381081086386934\n",
       "  0.20474633406399048\n",
       " -0.16442550436291942\n",
       "  0.10458642322398448"
      ]
     },
     "execution_count": 408,
     "metadata": {},
     "output_type": "execute_result"
    }
   ],
   "source": [
    "v1 = deepcopy(A[:,1])\n",
    "v1[1] += sign(A[1,1])*norm(A[:,1])\n",
    "v1 ./= norm(v1)"
   ]
  },
  {
   "cell_type": "code",
   "execution_count": 409,
   "metadata": {},
   "outputs": [
    {
     "data": {
      "text/plain": [
       "10-element Array{Float64,1}:\n",
       " -2.8951281017980177\n",
       " -1.1102230246251565e-16\n",
       " -5.551115123125783e-17\n",
       " -1.1102230246251565e-16\n",
       " -4.440892098500626e-16\n",
       "  1.1102230246251565e-16\n",
       " -1.1102230246251565e-16\n",
       "  2.220446049250313e-16\n",
       " -2.220446049250313e-16\n",
       "  1.1102230246251565e-16"
      ]
     },
     "execution_count": 409,
     "metadata": {},
     "output_type": "execute_result"
    }
   ],
   "source": [
    "A[:,1]-2*v1*(v1'*A[:,1])"
   ]
  },
  {
   "cell_type": "code",
   "execution_count": 410,
   "metadata": {},
   "outputs": [
    {
     "data": {
      "text/plain": [
       "-2.8951281017980186"
      ]
     },
     "execution_count": 410,
     "metadata": {},
     "output_type": "execute_result"
    }
   ],
   "source": [
    "-sign(A[1,1])*norm(A[:,1])"
   ]
  },
  {
   "cell_type": "code",
   "execution_count": 411,
   "metadata": {},
   "outputs": [],
   "source": [
    "F = qrfactUnblocked(A);"
   ]
  },
  {
   "cell_type": "code",
   "execution_count": 415,
   "metadata": {},
   "outputs": [
    {
     "name": "stdout",
     "output_type": "stream",
     "text": [
      "  0.000034 seconds (19 allocations: 68.781 KiB)\n"
     ]
    },
    {
     "data": {
      "text/plain": [
       "10-element Array{Float64,1}:\n",
       " -0.06386513025644856\n",
       "  0.16919896318914218\n",
       "  0.1209464199784922\n",
       " -0.047692160175551175\n",
       "  0.27277907050695205\n",
       "  0.5512663993570996\n",
       " -0.18040045394795617\n",
       "  0.42819356600047437\n",
       " -0.1577679734656433\n",
       " -0.628727096606396"
      ]
     },
     "execution_count": 415,
     "metadata": {},
     "output_type": "execute_result"
    }
   ],
   "source": [
    "@time (Matrix(F.Q)[:,end]'*a)*Matrix(F.Q)[:,end]"
   ]
  },
  {
   "cell_type": "code",
   "execution_count": 430,
   "metadata": {},
   "outputs": [
    {
     "name": "stdout",
     "output_type": "stream",
     "text": [
      "  0.000016 seconds (5 allocations: 33.125 KiB)\n",
      "  0.000139 seconds (491 allocations: 3.894 MiB)\n",
      "  0.000008 seconds (5 allocations: 400 bytes)\n"
     ]
    },
    {
     "data": {
      "text/plain": [
       "10-element SparseVector{Float64,Int64} with 10 stored entries:\n",
       "  [1 ]  =  -0.0638651\n",
       "  [2 ]  =  0.169199\n",
       "  [3 ]  =  0.120946\n",
       "  [4 ]  =  -0.0476922\n",
       "  [5 ]  =  0.272779\n",
       "  [6 ]  =  0.551266\n",
       "  [7 ]  =  -0.1804\n",
       "  [8 ]  =  0.428194\n",
       "  [9 ]  =  -0.157768\n",
       "  [10]  =  -0.628727"
      ]
     },
     "execution_count": 430,
     "metadata": {},
     "output_type": "execute_result"
    }
   ],
   "source": [
    "@time q = F.Q*e3\n",
    "@time (q'*a)*q"
   ]
  },
  {
   "cell_type": "code",
   "execution_count": 429,
   "metadata": {},
   "outputs": [
    {
     "data": {
      "text/plain": [
       "10-element SparseVector{Float64,Int64} with 1 stored entry:\n",
       "  [3 ]  =  1.0"
      ]
     },
     "execution_count": 429,
     "metadata": {},
     "output_type": "execute_result"
    }
   ],
   "source": [
    "e3s = sparse(e3)"
   ]
  },
  {
   "cell_type": "code",
   "execution_count": 383,
   "metadata": {},
   "outputs": [],
   "source": [
    "G = qrfactUnblocked(hcat(A, a));"
   ]
  },
  {
   "cell_type": "code",
   "execution_count": 384,
   "metadata": {},
   "outputs": [],
   "source": [
    "e3 = zeros(10)\n",
    "e3[end] = 1.0;"
   ]
  },
  {
   "cell_type": "code",
   "execution_count": 385,
   "metadata": {},
   "outputs": [
    {
     "data": {
      "text/plain": [
       "200×3 Array{Float64,2}:\n",
       " -14.1094       -0.0654877    1.99214\n",
       "  -0.0588622   -14.1452      -0.466042\n",
       "  -0.0183108     0.0284008   13.9111\n",
       "  -0.0100534    -0.00194177   0.018311\n",
       "   0.0188217    -0.0393184   -0.0234043\n",
       "  -0.0129462    -0.0785732   -0.00634784\n",
       "   0.0160007    -0.0284011    0.048103\n",
       "   0.0488026     0.00776005   0.00817411\n",
       "   0.0941817    -0.0433128   -0.0100144\n",
       "  -0.00429275   -0.0117351   -0.0229985\n",
       "   0.0541583     0.0234308   -0.0527693\n",
       "  -0.0225049    -0.0896983   -0.105128\n",
       "  -0.117634     -0.024595    -0.0134091\n",
       "   ⋮                         \n",
       "   0.00131247   -0.0376595   -0.0698185\n",
       "   0.168875     -0.0129279    0.0407923\n",
       "   0.044295     -0.140042     0.00320451\n",
       "   0.0163201     0.0653219   -0.0262784\n",
       "   0.0273254     0.0352246   -0.0251268\n",
       "   0.0948909    -0.0285522   -0.0593608\n",
       "   0.00146409   -0.0890485   -0.0515669\n",
       "   0.0886513    -0.0671356   -0.0521009\n",
       "  -0.0460098     0.0197032    7.51462e-5\n",
       "   0.0956575     0.0214919   -0.0564397\n",
       "   0.0580051    -0.113593    -0.0497998\n",
       "  -0.0644908     0.0906852   -0.0505467"
      ]
     },
     "execution_count": 385,
     "metadata": {},
     "output_type": "execute_result"
    }
   ],
   "source": [
    "F.factors"
   ]
  },
  {
   "cell_type": "code",
   "execution_count": 386,
   "metadata": {},
   "outputs": [
    {
     "data": {
      "text/plain": [
       "3-element Array{Float64,1}:\n",
       " 1.067959993142783\n",
       " 1.0067138556018416\n",
       " 1.092812610421512"
      ]
     },
     "execution_count": 386,
     "metadata": {},
     "output_type": "execute_result"
    }
   ],
   "source": [
    "F.τ"
   ]
  },
  {
   "cell_type": "code",
   "execution_count": 387,
   "metadata": {},
   "outputs": [
    {
     "ename": "LoadError",
     "evalue": "\u001b[91mDimensionMismatch(\"vector must have length either 200 or 3\")\u001b[39m",
     "output_type": "error",
     "traceback": [
      "\u001b[91mDimensionMismatch(\"vector must have length either 200 or 3\")\u001b[39m",
      "",
      "Stacktrace:",
      " [1] *(::LinearAlgebra.QRPackedQ{Float64,Array{Float64,2}}, ::Array{Float64,1}) at /buildworker/worker/package_linux64/build/usr/share/julia/stdlib/v1.5/LinearAlgebra/src/qr.jl:574",
      " [2] top-level scope at In[387]:1",
      " [3] include_string(::Function, ::Module, ::String, ::String) at ./loading.jl:1091"
     ]
    }
   ],
   "source": [
    "F.Q*e3"
   ]
  },
  {
   "cell_type": "code",
   "execution_count": 388,
   "metadata": {},
   "outputs": [
    {
     "data": {
      "text/plain": [
       "200×3 Array{Float64,2}:\n",
       " -0.06796     -0.00804195  -0.00849211\n",
       "  0.0628624   -0.00624049   0.000163739\n",
       "  0.0195552   -0.0284442   -0.0926667\n",
       "  0.0107366    0.00203565  -0.0199245\n",
       " -0.0201008    0.039431     0.0254299\n",
       "  0.0138261    0.0792048    0.00707335\n",
       " -0.0170881    0.0284631   -0.0526939\n",
       " -0.0521192   -0.00820462  -0.00934982\n",
       " -0.100582     0.0428462    0.0101586\n",
       "  0.00458448   0.0118484    0.0251734\n",
       " -0.0578389   -0.0240236    0.0571991\n",
       "  0.0240343    0.0904816    0.115106\n",
       "  0.125628     0.0257061    0.0156609\n",
       "  ⋮                        \n",
       " -0.00140167   0.0379018    0.0763\n",
       " -0.180352     0.0116566   -0.0460081\n",
       " -0.0473053    0.140626    -0.00383102\n",
       " -0.0174293   -0.0658917    0.0285569\n",
       " -0.0291824   -0.0356808    0.0272149\n",
       " -0.10134      0.0279807    0.064074\n",
       " -0.00156359   0.0896346    0.0563704\n",
       " -0.0946761    0.0668734    0.0562062\n",
       "  0.0491367   -0.0194654    0.000301977\n",
       " -0.102158    -0.0224055    0.0608585\n",
       " -0.0619472    0.113889     0.0539674\n",
       "  0.0688736   -0.0907754    0.0557553"
      ]
     },
     "execution_count": 388,
     "metadata": {},
     "output_type": "execute_result"
    }
   ],
   "source": [
    "Matrix(F.Q)"
   ]
  },
  {
   "cell_type": "code",
   "execution_count": 448,
   "metadata": {},
   "outputs": [
    {
     "name": "stdout",
     "output_type": "stream",
     "text": [
      "search: \u001b[0m\u001b[1ml\u001b[22m\u001b[0m\u001b[1md\u001b[22m\u001b[0m\u001b[1mi\u001b[22m\u001b[0m\u001b[1mv\u001b[22m\u001b[0m\u001b[1m!\u001b[22m sp\u001b[0m\u001b[1ml\u001b[22mit\u001b[0m\u001b[1md\u001b[22mr\u001b[0m\u001b[1mi\u001b[22m\u001b[0m\u001b[1mv\u001b[22me\n",
      "\n"
     ]
    },
    {
     "data": {
      "text/latex": [
       "\\begin{verbatim}\n",
       "ldiv!(Y, A, B) -> Y\n",
       "\\end{verbatim}\n",
       "Compute \\texttt{A {\\textbackslash} B} in-place and store the result in \\texttt{Y}, returning the result.\n",
       "\n",
       "The argument \\texttt{A} should \\emph{not} be a matrix.  Rather, instead of matrices it should be a factorization object (e.g. produced by \\href{@ref}{\\texttt{factorize}} or \\href{@ref}{\\texttt{cholesky}}). The reason for this is that factorization itself is both expensive and typically allocates memory (although it can also be done in-place via, e.g., \\href{@ref}{\\texttt{lu!}}), and performance-critical situations requiring \\texttt{ldiv!} usually also require fine-grained control over the factorization of \\texttt{A}.\n",
       "\n",
       "\\section{Examples}\n",
       "\\begin{verbatim}\n",
       "julia> A = [1 2.2 4; 3.1 0.2 3; 4 1 2];\n",
       "\n",
       "julia> X = [1; 2.5; 3];\n",
       "\n",
       "julia> Y = zero(X);\n",
       "\n",
       "julia> ldiv!(Y, qr(A), X);\n",
       "\n",
       "julia> Y\n",
       "3-element Array{Float64,1}:\n",
       "  0.7128099173553719\n",
       " -0.051652892561983674\n",
       "  0.10020661157024757\n",
       "\n",
       "julia> A\\X\n",
       "3-element Array{Float64,1}:\n",
       "  0.7128099173553719\n",
       " -0.05165289256198333\n",
       "  0.10020661157024785\n",
       "\\end{verbatim}\n",
       "\\rule{\\textwidth}{1pt}\n",
       "\\begin{verbatim}\n",
       "ldiv!(A, B)\n",
       "\\end{verbatim}\n",
       "Compute \\texttt{A {\\textbackslash} B} in-place and overwriting \\texttt{B} to store the result.\n",
       "\n",
       "The argument \\texttt{A} should \\emph{not} be a matrix.  Rather, instead of matrices it should be a factorization object (e.g. produced by \\href{@ref}{\\texttt{factorize}} or \\href{@ref}{\\texttt{cholesky}}). The reason for this is that factorization itself is both expensive and typically allocates memory (although it can also be done in-place via, e.g., \\href{@ref}{\\texttt{lu!}}), and performance-critical situations requiring \\texttt{ldiv!} usually also require fine-grained control over the factorization of \\texttt{A}.\n",
       "\n",
       "\\section{Examples}\n",
       "\\begin{verbatim}\n",
       "julia> A = [1 2.2 4; 3.1 0.2 3; 4 1 2];\n",
       "\n",
       "julia> X = [1; 2.5; 3];\n",
       "\n",
       "julia> Y = copy(X);\n",
       "\n",
       "julia> ldiv!(qr(A), X);\n",
       "\n",
       "julia> X\n",
       "3-element Array{Float64,1}:\n",
       "  0.7128099173553719\n",
       " -0.051652892561983674\n",
       "  0.10020661157024757\n",
       "\n",
       "julia> A\\Y\n",
       "3-element Array{Float64,1}:\n",
       "  0.7128099173553719\n",
       " -0.05165289256198333\n",
       "  0.10020661157024785\n",
       "\\end{verbatim}\n",
       "\\rule{\\textwidth}{1pt}\n",
       "\\begin{verbatim}\n",
       "ldiv!(a::Number, B::AbstractArray)\n",
       "\\end{verbatim}\n",
       "Divide each entry in an array \\texttt{B} by a scalar \\texttt{a} overwriting \\texttt{B} in-place.  Use \\href{@ref}{\\texttt{rdiv!}} to divide scalar from right.\n",
       "\n",
       "\\section{Examples}\n",
       "\\begin{verbatim}\n",
       "julia> B = [1.0 2.0; 3.0 4.0]\n",
       "2×2 Array{Float64,2}:\n",
       " 1.0  2.0\n",
       " 3.0  4.0\n",
       "\n",
       "julia> ldiv!(2.0, B)\n",
       "2×2 Array{Float64,2}:\n",
       " 0.5  1.0\n",
       " 1.5  2.0\n",
       "\\end{verbatim}\n"
      ],
      "text/markdown": [
       "```\n",
       "ldiv!(Y, A, B) -> Y\n",
       "```\n",
       "\n",
       "Compute `A \\ B` in-place and store the result in `Y`, returning the result.\n",
       "\n",
       "The argument `A` should *not* be a matrix.  Rather, instead of matrices it should be a factorization object (e.g. produced by [`factorize`](@ref) or [`cholesky`](@ref)). The reason for this is that factorization itself is both expensive and typically allocates memory (although it can also be done in-place via, e.g., [`lu!`](@ref)), and performance-critical situations requiring `ldiv!` usually also require fine-grained control over the factorization of `A`.\n",
       "\n",
       "# Examples\n",
       "\n",
       "```jldoctest\n",
       "julia> A = [1 2.2 4; 3.1 0.2 3; 4 1 2];\n",
       "\n",
       "julia> X = [1; 2.5; 3];\n",
       "\n",
       "julia> Y = zero(X);\n",
       "\n",
       "julia> ldiv!(Y, qr(A), X);\n",
       "\n",
       "julia> Y\n",
       "3-element Array{Float64,1}:\n",
       "  0.7128099173553719\n",
       " -0.051652892561983674\n",
       "  0.10020661157024757\n",
       "\n",
       "julia> A\\X\n",
       "3-element Array{Float64,1}:\n",
       "  0.7128099173553719\n",
       " -0.05165289256198333\n",
       "  0.10020661157024785\n",
       "```\n",
       "\n",
       "---\n",
       "\n",
       "```\n",
       "ldiv!(A, B)\n",
       "```\n",
       "\n",
       "Compute `A \\ B` in-place and overwriting `B` to store the result.\n",
       "\n",
       "The argument `A` should *not* be a matrix.  Rather, instead of matrices it should be a factorization object (e.g. produced by [`factorize`](@ref) or [`cholesky`](@ref)). The reason for this is that factorization itself is both expensive and typically allocates memory (although it can also be done in-place via, e.g., [`lu!`](@ref)), and performance-critical situations requiring `ldiv!` usually also require fine-grained control over the factorization of `A`.\n",
       "\n",
       "# Examples\n",
       "\n",
       "```jldoctest\n",
       "julia> A = [1 2.2 4; 3.1 0.2 3; 4 1 2];\n",
       "\n",
       "julia> X = [1; 2.5; 3];\n",
       "\n",
       "julia> Y = copy(X);\n",
       "\n",
       "julia> ldiv!(qr(A), X);\n",
       "\n",
       "julia> X\n",
       "3-element Array{Float64,1}:\n",
       "  0.7128099173553719\n",
       " -0.051652892561983674\n",
       "  0.10020661157024757\n",
       "\n",
       "julia> A\\Y\n",
       "3-element Array{Float64,1}:\n",
       "  0.7128099173553719\n",
       " -0.05165289256198333\n",
       "  0.10020661157024785\n",
       "```\n",
       "\n",
       "---\n",
       "\n",
       "```\n",
       "ldiv!(a::Number, B::AbstractArray)\n",
       "```\n",
       "\n",
       "Divide each entry in an array `B` by a scalar `a` overwriting `B` in-place.  Use [`rdiv!`](@ref) to divide scalar from right.\n",
       "\n",
       "# Examples\n",
       "\n",
       "```jldoctest\n",
       "julia> B = [1.0 2.0; 3.0 4.0]\n",
       "2×2 Array{Float64,2}:\n",
       " 1.0  2.0\n",
       " 3.0  4.0\n",
       "\n",
       "julia> ldiv!(2.0, B)\n",
       "2×2 Array{Float64,2}:\n",
       " 0.5  1.0\n",
       " 1.5  2.0\n",
       "```\n"
      ],
      "text/plain": [
       "\u001b[36m  ldiv!(Y, A, B) -> Y\u001b[39m\n",
       "\n",
       "  Compute \u001b[36mA \\ B\u001b[39m in-place and store the result in \u001b[36mY\u001b[39m, returning the result.\n",
       "\n",
       "  The argument \u001b[36mA\u001b[39m should \u001b[4mnot\u001b[24m be a matrix. Rather, instead of matrices it should\n",
       "  be a factorization object (e.g. produced by \u001b[36mfactorize\u001b[39m or \u001b[36mcholesky\u001b[39m). The\n",
       "  reason for this is that factorization itself is both expensive and typically\n",
       "  allocates memory (although it can also be done in-place via, e.g., \u001b[36mlu!\u001b[39m), and\n",
       "  performance-critical situations requiring \u001b[36mldiv!\u001b[39m usually also require\n",
       "  fine-grained control over the factorization of \u001b[36mA\u001b[39m.\n",
       "\n",
       "\u001b[1m  Examples\u001b[22m\n",
       "\u001b[1m  ≡≡≡≡≡≡≡≡≡≡\u001b[22m\n",
       "\n",
       "\u001b[36m  julia> A = [1 2.2 4; 3.1 0.2 3; 4 1 2];\u001b[39m\n",
       "\u001b[36m  \u001b[39m\n",
       "\u001b[36m  julia> X = [1; 2.5; 3];\u001b[39m\n",
       "\u001b[36m  \u001b[39m\n",
       "\u001b[36m  julia> Y = zero(X);\u001b[39m\n",
       "\u001b[36m  \u001b[39m\n",
       "\u001b[36m  julia> ldiv!(Y, qr(A), X);\u001b[39m\n",
       "\u001b[36m  \u001b[39m\n",
       "\u001b[36m  julia> Y\u001b[39m\n",
       "\u001b[36m  3-element Array{Float64,1}:\u001b[39m\n",
       "\u001b[36m    0.7128099173553719\u001b[39m\n",
       "\u001b[36m   -0.051652892561983674\u001b[39m\n",
       "\u001b[36m    0.10020661157024757\u001b[39m\n",
       "\u001b[36m  \u001b[39m\n",
       "\u001b[36m  julia> A\\X\u001b[39m\n",
       "\u001b[36m  3-element Array{Float64,1}:\u001b[39m\n",
       "\u001b[36m    0.7128099173553719\u001b[39m\n",
       "\u001b[36m   -0.05165289256198333\u001b[39m\n",
       "\u001b[36m    0.10020661157024785\u001b[39m\n",
       "\n",
       "  ────────────────────────────────────────────────────────────────────────────\n",
       "\n",
       "\u001b[36m  ldiv!(A, B)\u001b[39m\n",
       "\n",
       "  Compute \u001b[36mA \\ B\u001b[39m in-place and overwriting \u001b[36mB\u001b[39m to store the result.\n",
       "\n",
       "  The argument \u001b[36mA\u001b[39m should \u001b[4mnot\u001b[24m be a matrix. Rather, instead of matrices it should\n",
       "  be a factorization object (e.g. produced by \u001b[36mfactorize\u001b[39m or \u001b[36mcholesky\u001b[39m). The\n",
       "  reason for this is that factorization itself is both expensive and typically\n",
       "  allocates memory (although it can also be done in-place via, e.g., \u001b[36mlu!\u001b[39m), and\n",
       "  performance-critical situations requiring \u001b[36mldiv!\u001b[39m usually also require\n",
       "  fine-grained control over the factorization of \u001b[36mA\u001b[39m.\n",
       "\n",
       "\u001b[1m  Examples\u001b[22m\n",
       "\u001b[1m  ≡≡≡≡≡≡≡≡≡≡\u001b[22m\n",
       "\n",
       "\u001b[36m  julia> A = [1 2.2 4; 3.1 0.2 3; 4 1 2];\u001b[39m\n",
       "\u001b[36m  \u001b[39m\n",
       "\u001b[36m  julia> X = [1; 2.5; 3];\u001b[39m\n",
       "\u001b[36m  \u001b[39m\n",
       "\u001b[36m  julia> Y = copy(X);\u001b[39m\n",
       "\u001b[36m  \u001b[39m\n",
       "\u001b[36m  julia> ldiv!(qr(A), X);\u001b[39m\n",
       "\u001b[36m  \u001b[39m\n",
       "\u001b[36m  julia> X\u001b[39m\n",
       "\u001b[36m  3-element Array{Float64,1}:\u001b[39m\n",
       "\u001b[36m    0.7128099173553719\u001b[39m\n",
       "\u001b[36m   -0.051652892561983674\u001b[39m\n",
       "\u001b[36m    0.10020661157024757\u001b[39m\n",
       "\u001b[36m  \u001b[39m\n",
       "\u001b[36m  julia> A\\Y\u001b[39m\n",
       "\u001b[36m  3-element Array{Float64,1}:\u001b[39m\n",
       "\u001b[36m    0.7128099173553719\u001b[39m\n",
       "\u001b[36m   -0.05165289256198333\u001b[39m\n",
       "\u001b[36m    0.10020661157024785\u001b[39m\n",
       "\n",
       "  ────────────────────────────────────────────────────────────────────────────\n",
       "\n",
       "\u001b[36m  ldiv!(a::Number, B::AbstractArray)\u001b[39m\n",
       "\n",
       "  Divide each entry in an array \u001b[36mB\u001b[39m by a scalar \u001b[36ma\u001b[39m overwriting \u001b[36mB\u001b[39m in-place. Use\n",
       "  \u001b[36mrdiv!\u001b[39m to divide scalar from right.\n",
       "\n",
       "\u001b[1m  Examples\u001b[22m\n",
       "\u001b[1m  ≡≡≡≡≡≡≡≡≡≡\u001b[22m\n",
       "\n",
       "\u001b[36m  julia> B = [1.0 2.0; 3.0 4.0]\u001b[39m\n",
       "\u001b[36m  2×2 Array{Float64,2}:\u001b[39m\n",
       "\u001b[36m   1.0  2.0\u001b[39m\n",
       "\u001b[36m   3.0  4.0\u001b[39m\n",
       "\u001b[36m  \u001b[39m\n",
       "\u001b[36m  julia> ldiv!(2.0, B)\u001b[39m\n",
       "\u001b[36m  2×2 Array{Float64,2}:\u001b[39m\n",
       "\u001b[36m   0.5  1.0\u001b[39m\n",
       "\u001b[36m   1.5  2.0\u001b[39m"
      ]
     },
     "execution_count": 448,
     "metadata": {},
     "output_type": "execute_result"
    }
   ],
   "source": [
    "?ldiv!"
   ]
  },
  {
   "cell_type": "code",
   "execution_count": 395,
   "metadata": {},
   "outputs": [
    {
     "name": "stdout",
     "output_type": "stream",
     "text": [
      "  0.000023 seconds (7 allocations: 42.703 KiB)\n"
     ]
    },
    {
     "data": {
      "text/plain": [
       "QR{Float64,Array{Float64,2}}\n",
       "Q factor:\n",
       "200×200 LinearAlgebra.QRPackedQ{Float64,Array{Float64,2}}:\n",
       " -0.06796     -0.00804195  -0.00849211   …  -0.0481424     0.0672316\n",
       "  0.0628624   -0.00624049   0.000163739      0.117278     -0.0962472\n",
       "  0.0195552   -0.0284442   -0.0926667        0.0580183     0.0503943\n",
       "  0.0107366    0.00203565  -0.0199245       -0.0180354     0.00487727\n",
       " -0.0201008    0.039431     0.0254299        0.093043      0.0555233\n",
       "  0.0138261    0.0792048    0.00707335   …  -0.0100423     0.00511721\n",
       " -0.0170881    0.0284631   -0.0526939        0.000913912   0.00796371\n",
       " -0.0521192   -0.00820462  -0.00934982      -0.00465951    0.000669842\n",
       " -0.100582     0.0428462    0.0101586       -0.00979569    0.00993843\n",
       "  0.00458448   0.0118484    0.0251734        0.00139562    0.00216605\n",
       " -0.0578389   -0.0240236    0.0571991    …   0.00181719    0.00164766\n",
       "  0.0240343    0.0904816    0.115106        -0.0132523     0.00218484\n",
       "  0.125628     0.0257061    0.0156609       -0.00358715   -0.0102644\n",
       "  ⋮                                      ⋱                \n",
       " -0.00140167   0.0379018    0.0763          -0.0125796    -0.00345921\n",
       " -0.180352     0.0116566   -0.0460081       -0.00279775    0.0180117\n",
       " -0.0473053    0.140626    -0.00383102   …  -0.0262892     0.0102128\n",
       " -0.0174293   -0.0658917    0.0285569       -0.0052488    -0.013805\n",
       " -0.0291824   -0.0356808    0.0272149        0.00653527    0.000747975\n",
       " -0.10134      0.0279807    0.064074        -0.0105828     0.00609229\n",
       " -0.00156359   0.0896346    0.0563704       -0.00477197    0.0113487\n",
       " -0.0946761    0.0668734    0.0562062    …  -0.0156804     0.00869766\n",
       "  0.0491367   -0.0194654    0.000301977      0.00807052   -0.00235852\n",
       " -0.102158    -0.0224055    0.0608585       -0.00287332    0.00310459\n",
       " -0.0619472    0.113889     0.0539674        0.973777      0.0067094\n",
       "  0.0688736   -0.0907754    0.0557553        0.00713671    0.98201\n",
       "R factor:\n",
       "5×5 Array{Float64,2}:\n",
       " -14.1094   -0.0654877   1.99214    0.89692    0.89692\n",
       "   0.0     -14.1452     -0.466042   0.104762   0.104762\n",
       "   0.0       0.0        13.9111     0.277801   0.277801\n",
       "   0.0       0.0         0.0       14.1149    14.1149\n",
       "   0.0       0.0         0.0        0.0       -6.49756e-15"
      ]
     },
     "execution_count": 395,
     "metadata": {},
     "output_type": "execute_result"
    }
   ],
   "source": [
    "@time F = updateqrfactUnblocked!(F, a)"
   ]
  },
  {
   "cell_type": "code",
   "execution_count": 396,
   "metadata": {},
   "outputs": [
    {
     "name": "stdout",
     "output_type": "stream",
     "text": [
      "  1.135 ms (197 allocations: 19.28 MiB)\n"
     ]
    }
   ],
   "source": [
    "@btime begin\n",
    "    A = randn(500,1)\n",
    "    ϕ = randn(500)\n",
    "    for i=1:99\n",
    "    A = hcat(A, ϕ)\n",
    "    end\n",
    "end"
   ]
  },
  {
   "cell_type": "code",
   "execution_count": 398,
   "metadata": {},
   "outputs": [
    {
     "name": "stdout",
     "output_type": "stream",
     "text": [
      "  203.395 μs (138 allocations: 1.57 MiB)\n"
     ]
    }
   ],
   "source": [
    "@btime begin\n",
    "    A = randn(500,20)\n",
    "    G = qrfactUnblocked(view(A,:,1:1))\n",
    "    for i=2:20\n",
    "    G = updateqrfactUnblocked!(G, view(A,:,i))\n",
    "    end\n",
    "end"
   ]
  },
  {
   "cell_type": "code",
   "execution_count": 400,
   "metadata": {},
   "outputs": [
    {
     "name": "stdout",
     "output_type": "stream",
     "text": [
      "  920.145 μs (58 allocations: 903.86 KiB)\n"
     ]
    }
   ],
   "source": [
    "@btime begin\n",
    "    A = randn(500,20)\n",
    "    for i=1:20\n",
    "    G = qrfactUnblocked(view(A,:,1:i))\n",
    "    end\n",
    "end"
   ]
  },
  {
   "cell_type": "code",
   "execution_count": 394,
   "metadata": {},
   "outputs": [
    {
     "name": "stdout",
     "output_type": "stream",
     "text": [
      "  0.000019 seconds (4 allocations: 12.891 KiB)\n"
     ]
    },
    {
     "data": {
      "text/plain": [
       "QR{Float64,Array{Float64,2}}\n",
       "Q factor:\n",
       "200×200 LinearAlgebra.QRPackedQ{Float64,Array{Float64,2}}:\n",
       " -0.06796     -0.00804195  -0.00849211   …  -0.0450985    0.0687535\n",
       "  0.0628624   -0.00624049   0.000163739      0.113702    -0.0980353\n",
       "  0.0195552   -0.0284442   -0.0926667        0.0540416    0.0484059\n",
       "  0.0107366    0.00203565  -0.0199245        0.0856018    0.0566959\n",
       " -0.0201008    0.039431     0.0254299        0.00592122   0.0119624\n",
       "  0.0138261    0.0792048    0.00707335   …  -0.00998851   0.0051441\n",
       " -0.0170881    0.0284631   -0.0526939        0.00146049   0.008237\n",
       " -0.0521192   -0.00820462  -0.00934982      -0.00405655   0.000971325\n",
       " -0.100582     0.0428462    0.0101586       -0.00934857   0.010162\n",
       "  0.00458448   0.0118484    0.0251734        0.00215686   0.00254667\n",
       " -0.0578389   -0.0240236    0.0571991    …   0.0019634    0.00172076\n",
       "  0.0240343    0.0904816    0.115106        -0.0122508    0.00268563\n",
       "  0.125628     0.0257061    0.0156609       -0.00437045  -0.010656\n",
       "  ⋮                                      ⋱               \n",
       " -0.00140167   0.0379018    0.0763          -0.0138403   -0.00408958\n",
       " -0.180352     0.0116566   -0.0460081       -0.00131766   0.0187518\n",
       " -0.0473053    0.140626    -0.00383102   …  -0.0277007    0.00950702\n",
       " -0.0174293   -0.0658917    0.0285569       -0.00796701  -0.0151641\n",
       " -0.0291824   -0.0356808    0.0272149        0.0070702    0.00101544\n",
       " -0.10134      0.0279807    0.064074        -0.00998963   0.00638889\n",
       " -0.00156359   0.0896346    0.0563704       -0.00232769   0.0125708\n",
       " -0.0946761    0.0668734    0.0562062    …  -0.0150932    0.00899126\n",
       "  0.0491367   -0.0194654    0.000301977      0.0087885   -0.00199954\n",
       " -0.102158    -0.0224055    0.0608585       -0.00137002   0.00385624\n",
       " -0.0619472    0.113889     0.0539674        0.97566      0.00765078\n",
       "  0.0688736   -0.0907754    0.0557553        0.00604088   0.981462\n",
       "R factor:\n",
       "4×4 Array{Float64,2}:\n",
       " -14.1094   -0.0654877   1.99214    0.89692\n",
       "   0.0     -14.1452     -0.466042   0.104762\n",
       "   0.0       0.0        13.9111     0.277801\n",
       "   0.0       0.0         0.0       14.1149"
      ]
     },
     "execution_count": 394,
     "metadata": {},
     "output_type": "execute_result"
    }
   ],
   "source": [
    "@time qrfactUnblocked(hcat(A, a))"
   ]
  },
  {
   "cell_type": "code",
   "execution_count": 262,
   "metadata": {},
   "outputs": [
    {
     "data": {
      "text/plain": [
       "QR{Float64,Array{Float64,2}}\n",
       "Q factor:\n",
       "5×5 LinearAlgebra.QRPackedQ{Float64,Array{Float64,2}}:\n",
       " -0.354453  -0.0294567  -0.144777   0.780108   -0.49393\n",
       "  0.608479  -0.0560666  -0.699902  -0.0836116  -0.360217\n",
       "  0.360319   0.842926    0.108657   0.335093    0.188553\n",
       "  0.596943  -0.50698     0.442864   0.416633    0.130075\n",
       " -0.133963  -0.168629   -0.530323   0.313959    0.757499\n",
       "R factor:\n",
       "3×3 Array{Float64,2}:\n",
       " -1.70342   0.381944  -0.401239\n",
       "  0.0      -2.49682    0.0895945\n",
       "  0.0       0.0        1.17001"
      ]
     },
     "execution_count": 262,
     "metadata": {},
     "output_type": "execute_result"
    }
   ],
   "source": [
    "F = qrfactUnblocked(A)"
   ]
  },
  {
   "cell_type": "code",
   "execution_count": 263,
   "metadata": {},
   "outputs": [
    {
     "data": {
      "text/plain": [
       "QR{Float64,Array{Float64,2}}\n",
       "Q factor:\n",
       "5×5 LinearAlgebra.QRPackedQ{Float64,Array{Float64,2}}:\n",
       " -0.354453  -0.0294567  -0.144777   0.0496505  -0.921992\n",
       "  0.608479  -0.0560666  -0.699902   0.355129   -0.103107\n",
       "  0.360319   0.842926    0.108657  -0.328272   -0.200192\n",
       "  0.596943  -0.50698     0.442864  -0.317106   -0.29991\n",
       " -0.133963  -0.168629   -0.530323  -0.814309    0.0963116\n",
       "R factor:\n",
       "4×4 Array{Float64,2}:\n",
       " -1.70342   0.381944  -0.401239    0.39236\n",
       "  0.0      -2.49682    0.0895945  -0.297712\n",
       "  0.0       0.0        1.17001     1.68256\n",
       "  0.0       0.0        0.0         1.92161"
      ]
     },
     "execution_count": 263,
     "metadata": {},
     "output_type": "execute_result"
    }
   ],
   "source": [
    "G = qrfactUnblocked(hcat(A, a))"
   ]
  },
  {
   "cell_type": "code",
   "execution_count": 273,
   "metadata": {},
   "outputs": [
    {
     "data": {
      "text/plain": [
       "5×5 Array{Float64,2}:\n",
       " -0.354453  -0.0294567  -0.144777   0.780108   -0.49393\n",
       "  0.608479  -0.0560666  -0.699902  -0.0836116  -0.360217\n",
       "  0.360319   0.842926    0.108657   0.335093    0.188553\n",
       "  0.596943  -0.50698     0.442864   0.416633    0.130075\n",
       " -0.133963  -0.168629   -0.530323   0.313959    0.757499"
      ]
     },
     "execution_count": 273,
     "metadata": {},
     "output_type": "execute_result"
    }
   ],
   "source": [
    "F.Q*I"
   ]
  },
  {
   "cell_type": "code",
   "execution_count": 274,
   "metadata": {},
   "outputs": [
    {
     "data": {
      "text/plain": [
       "5×5 Array{Float64,2}:\n",
       " -0.354453  -0.0294567  -0.144777   0.0496505  -0.921992\n",
       "  0.608479  -0.0560666  -0.699902   0.355129   -0.103107\n",
       "  0.360319   0.842926    0.108657  -0.328272   -0.200192\n",
       "  0.596943  -0.50698     0.442864  -0.317106   -0.29991\n",
       " -0.133963  -0.168629   -0.530323  -0.814309    0.0963116"
      ]
     },
     "execution_count": 274,
     "metadata": {},
     "output_type": "execute_result"
    }
   ],
   "source": [
    "G.Q*I"
   ]
  },
  {
   "cell_type": "code",
   "execution_count": 267,
   "metadata": {},
   "outputs": [
    {
     "data": {
      "text/plain": [
       "5×4 Array{Float64,2}:\n",
       " -0.354453  -0.0294567  -0.144777   0.0496505\n",
       "  0.608479  -0.0560666  -0.699902   0.355129\n",
       "  0.360319   0.842926    0.108657  -0.328272\n",
       "  0.596943  -0.50698     0.442864  -0.317106\n",
       " -0.133963  -0.168629   -0.530323  -0.814309"
      ]
     },
     "execution_count": 267,
     "metadata": {},
     "output_type": "execute_result"
    }
   ],
   "source": [
    "Matrix(G.Q)"
   ]
  },
  {
   "cell_type": "code",
   "execution_count": 268,
   "metadata": {},
   "outputs": [
    {
     "name": "stdout",
     "output_type": "stream",
     "text": [
      "  0.000029 seconds (10 allocations: 34.359 KiB)\n"
     ]
    },
    {
     "data": {
      "text/plain": [
       "0.6202879075119723"
      ]
     },
     "execution_count": 268,
     "metadata": {},
     "output_type": "execute_result"
    }
   ],
   "source": [
    "@time Matrix(G.Q)[:,end]'*x"
   ]
  },
  {
   "cell_type": "code",
   "execution_count": 269,
   "metadata": {},
   "outputs": [
    {
     "data": {
      "text/plain": [
       "5×1 Array{Float64,2}:\n",
       " 4.944806387469483\n",
       " 0.4039049800822969\n",
       " 5.1013680207778975\n",
       " 6.0383490848674235\n",
       " 2.949129244600986"
      ]
     },
     "execution_count": 269,
     "metadata": {},
     "output_type": "execute_result"
    }
   ],
   "source": [
    "LinearAlgebra.reflectorApply!(G.factors[:,end], G.τ[end], repeat(x, 1, 1))"
   ]
  },
  {
   "cell_type": "code",
   "execution_count": 272,
   "metadata": {},
   "outputs": [
    {
     "data": {
      "text/plain": [
       "5-element Array{Float64,1}:\n",
       "  0.3923598764754786\n",
       " -0.2977117858429559\n",
       "  1.682555529563471\n",
       "  1.921611896033874\n",
       "  0.586019851426991"
      ]
     },
     "execution_count": 272,
     "metadata": {},
     "output_type": "execute_result"
    }
   ],
   "source": [
    "G.factors[:,end]"
   ]
  },
  {
   "cell_type": "code",
   "execution_count": 177,
   "metadata": {},
   "outputs": [
    {
     "data": {
      "text/plain": [
       "5×3 Array{Float64,2}:\n",
       " -0.560746   0.476858  -0.595692\n",
       "  0.266732  -0.163457  -0.399935\n",
       "  0.152475  -0.56073   -0.65764\n",
       " -0.70258   -0.305936   0.0862987\n",
       "  0.312332   0.581268  -0.212757"
      ]
     },
     "execution_count": 177,
     "metadata": {},
     "output_type": "execute_result"
    }
   ],
   "source": [
    "Matrix(F.Q)"
   ]
  },
  {
   "cell_type": "code",
   "execution_count": 185,
   "metadata": {},
   "outputs": [
    {
     "name": "stdout",
     "output_type": "stream",
     "text": [
      "  0.000023 seconds (5 allocations: 33.094 KiB)\n"
     ]
    },
    {
     "data": {
      "text/plain": [
       "5-element Array{Float64,1}:\n",
       " -0.5607457503101241\n",
       "  0.2667317833640683\n",
       "  0.15247531590364338\n",
       " -0.7025797512047869\n",
       "  0.3123320836700315"
      ]
     },
     "execution_count": 185,
     "metadata": {},
     "output_type": "execute_result"
    }
   ],
   "source": [
    "@time F.Q*e1"
   ]
  },
  {
   "cell_type": "code",
   "execution_count": 173,
   "metadata": {},
   "outputs": [
    {
     "data": {
      "text/plain": [
       "3-element Array{Float64,1}:\n",
       " 1.560745750310124\n",
       " 1.0819620790792472\n",
       " 1.4774117472219135"
      ]
     },
     "execution_count": 173,
     "metadata": {},
     "output_type": "execute_result"
    }
   ],
   "source": [
    "F.τ"
   ]
  },
  {
   "cell_type": "code",
   "execution_count": 174,
   "metadata": {},
   "outputs": [
    {
     "data": {
      "text/plain": [
       "5×3 Array{Float64,2}:\n",
       "  1.96898     0.526254   0.0488306\n",
       " -0.1709      1.18777    0.0285602\n",
       " -0.0976939   0.475196   2.18735\n",
       "  0.450156    0.48116   -0.40332\n",
       " -0.200117   -0.625434   0.437095"
      ]
     },
     "execution_count": 174,
     "metadata": {},
     "output_type": "execute_result"
    }
   ],
   "source": [
    "F.factors"
   ]
  },
  {
   "cell_type": "code",
   "execution_count": 175,
   "metadata": {},
   "outputs": [
    {
     "data": {
      "text/plain": [
       "3×3 Array{Float64,2}:\n",
       " 1.96898  0.526254  0.0488306\n",
       " 0.0      1.18777   0.0285602\n",
       " 0.0      0.0       2.18735"
      ]
     },
     "execution_count": 175,
     "metadata": {},
     "output_type": "execute_result"
    }
   ],
   "source": [
    "F.R"
   ]
  },
  {
   "cell_type": "code",
   "execution_count": 187,
   "metadata": {},
   "outputs": [
    {
     "data": {
      "text/plain": [
       "1.0671788067058015"
      ]
     },
     "execution_count": 187,
     "metadata": {},
     "output_type": "execute_result"
    }
   ],
   "source": [
    "norm(bcopy)"
   ]
  },
  {
   "cell_type": "code",
   "execution_count": null,
   "metadata": {},
   "outputs": [],
   "source": []
  },
  {
   "cell_type": "code",
   "execution_count": 21,
   "metadata": {},
   "outputs": [
    {
     "data": {
      "text/plain": [
       "QR{Float64,Array{Float64,2}}\n",
       "Q factor:\n",
       "5×5 LinearAlgebra.QRPackedQ{Float64,Array{Float64,2}}:\n",
       " -0.590628   0.129591   0.137759   0.597569   0.508231\n",
       "  0.325049  -0.37588    0.853367   0.110796   0.112009\n",
       " -0.694451  -0.550947   0.104992  -0.329692  -0.307368\n",
       "  0.201446  -0.549423  -0.364693   0.658603  -0.301323\n",
       "  0.150532  -0.486325  -0.329792  -0.296952   0.737486\n",
       "R factor:\n",
       "3×3 Array{Float64,2}:\n",
       " -2.34065  -0.225599  -0.789926\n",
       "  0.0       0.257028  -0.144538\n",
       "  0.0       0.0       -2.66019"
      ]
     },
     "execution_count": 21,
     "metadata": {},
     "output_type": "execute_result"
    }
   ],
   "source": [
    "F = qrfactUnblocked(A)"
   ]
  },
  {
   "cell_type": "code",
   "execution_count": 22,
   "metadata": {},
   "outputs": [
    {
     "data": {
      "text/plain": [
       "5×3 Array{Float64,2}:\n",
       " -0.590628   0.129591   0.137759\n",
       "  0.325049  -0.37588    0.853367\n",
       " -0.694451  -0.550947   0.104992\n",
       "  0.201446  -0.549423  -0.364693\n",
       "  0.150532  -0.486325  -0.329792"
      ]
     },
     "execution_count": 22,
     "metadata": {},
     "output_type": "execute_result"
    }
   ],
   "source": [
    "Matrix(F.Q)"
   ]
  },
  {
   "cell_type": "code",
   "execution_count": 23,
   "metadata": {},
   "outputs": [
    {
     "name": "stdout",
     "output_type": "stream",
     "text": [
      "  0.031427 seconds (47.06 k allocations: 2.580 MiB, 25.41% gc time)\n"
     ]
    },
    {
     "data": {
      "text/plain": [
       "5-element Array{Float64,1}:\n",
       "  0.5975693865108171\n",
       "  0.11079646119980852\n",
       " -0.32969191285354693\n",
       "  0.6586027905643893\n",
       " -0.2969521499340479"
      ]
     },
     "execution_count": 23,
     "metadata": {},
     "output_type": "execute_result"
    }
   ],
   "source": [
    "@time F.Q[:,4]"
   ]
  },
  {
   "cell_type": "code",
   "execution_count": 24,
   "metadata": {},
   "outputs": [
    {
     "name": "stdout",
     "output_type": "stream",
     "text": [
      "  0.000003 seconds (2 allocations: 64 bytes)\n"
     ]
    },
    {
     "data": {
      "text/plain": [
       "5×5 LinearAlgebra.QRPackedQ{Float64,Array{Float64,2}}:\n",
       " -0.590628   0.129591   0.137759   0.597569   0.508231\n",
       "  0.325049  -0.37588    0.853367   0.110796   0.112009\n",
       " -0.694451  -0.550947   0.104992  -0.329692  -0.307368\n",
       "  0.201446  -0.549423  -0.364693   0.658603  -0.301323\n",
       "  0.150532  -0.486325  -0.329792  -0.296952   0.737486"
      ]
     },
     "execution_count": 24,
     "metadata": {},
     "output_type": "execute_result"
    }
   ],
   "source": [
    "@time F.Q"
   ]
  },
  {
   "cell_type": "code",
   "execution_count": 25,
   "metadata": {},
   "outputs": [
    {
     "name": "stdout",
     "output_type": "stream",
     "text": [
      "  0.000027 seconds (6 allocations: 33.875 KiB)\n"
     ]
    },
    {
     "data": {
      "text/plain": [
       "5×3 Array{Float64,2}:\n",
       " -0.590628   0.129591   0.137759\n",
       "  0.325049  -0.37588    0.853367\n",
       " -0.694451  -0.550947   0.104992\n",
       "  0.201446  -0.549423  -0.364693\n",
       "  0.150532  -0.486325  -0.329792"
      ]
     },
     "execution_count": 25,
     "metadata": {},
     "output_type": "execute_result"
    }
   ],
   "source": [
    "@time Matrix(F.Q)"
   ]
  },
  {
   "cell_type": "code",
   "execution_count": 26,
   "metadata": {},
   "outputs": [
    {
     "data": {
      "text/plain": [
       "5×3 Array{Float64,2}:\n",
       " -2.34065    -0.225599  -0.789926\n",
       " -0.204352    0.257028  -0.144538\n",
       "  0.436589    0.450219  -2.66019\n",
       " -0.126645    0.394999   0.514372\n",
       " -0.0946365   0.351313   0.463336"
      ]
     },
     "execution_count": 26,
     "metadata": {},
     "output_type": "execute_result"
    }
   ],
   "source": [
    "F.factors"
   ]
  },
  {
   "cell_type": "code",
   "execution_count": 27,
   "metadata": {},
   "outputs": [
    {
     "data": {
      "text/plain": [
       "(:factors, :τ)"
      ]
     },
     "execution_count": 27,
     "metadata": {},
     "output_type": "execute_result"
    }
   ],
   "source": [
    "fieldnames(typeof(F))"
   ]
  },
  {
   "cell_type": "code",
   "execution_count": 19,
   "metadata": {},
   "outputs": [
    {
     "data": {
      "text/plain": [
       "3×3 Array{Float64,2}:\n",
       " 1.59063       0.195457      -0.920208\n",
       " 0.0           1.3494        -1.48904\n",
       " 6.91241e-310  6.91241e-310   1.35203"
      ]
     },
     "execution_count": 19,
     "metadata": {},
     "output_type": "execute_result"
    }
   ],
   "source": [
    "F.T"
   ]
  },
  {
   "cell_type": "code",
   "execution_count": 28,
   "metadata": {},
   "outputs": [
    {
     "data": {
      "text/plain": [
       "3-element Array{Float64,1}:\n",
       " 1.590627772674415\n",
       " 1.3493980685712008\n",
       " 1.35202857421537"
      ]
     },
     "execution_count": 28,
     "metadata": {},
     "output_type": "execute_result"
    }
   ],
   "source": [
    "F.τ"
   ]
  },
  {
   "cell_type": "code",
   "execution_count": null,
   "metadata": {},
   "outputs": [],
   "source": [
    "(I - F.factors)"
   ]
  }
 ],
 "metadata": {
  "kernelspec": {
   "display_name": "Julia 1.5.3",
   "language": "julia",
   "name": "julia-1.5"
  },
  "language_info": {
   "file_extension": ".jl",
   "mimetype": "application/julia",
   "name": "julia",
   "version": "1.5.3"
  }
 },
 "nbformat": 4,
 "nbformat_minor": 4
}
