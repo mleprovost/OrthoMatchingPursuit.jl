{
 "cells": [
  {
   "cell_type": "code",
   "execution_count": 2,
   "metadata": {},
   "outputs": [],
   "source": [
    "using Revise\n",
    "using LinearAlgebra\n",
    "using Statistics\n",
    "using BenchmarkTools\n",
    "using OrthoMatchingPursuit"
   ]
  },
  {
   "cell_type": "code",
   "execution_count": 3,
   "metadata": {},
   "outputs": [
    {
     "name": "stdout",
     "output_type": "stream",
     "text": [
      "  1.108 ms (197 allocations: 19.28 MiB)\n"
     ]
    }
   ],
   "source": [
    "@btime begin\n",
    "    A = randn(500,1)\n",
    "    ϕ = randn(500)\n",
    "    for i=1:99\n",
    "    A = hcat(A, ϕ)\n",
    "    end\n",
    "end"
   ]
  },
  {
   "cell_type": "code",
   "execution_count": 4,
   "metadata": {},
   "outputs": [
    {
     "name": "stdout",
     "output_type": "stream",
     "text": [
      "  194.379 μs (119 allocations: 1.49 MiB)\n"
     ]
    }
   ],
   "source": [
    "@btime begin\n",
    "    A = randn(500,20)\n",
    "    G = qrfactUnblocked(view(A,:,1:1))\n",
    "    for i=2:20\n",
    "    G = updateqrfactUnblocked!(G, view(A,:,i))\n",
    "    end\n",
    "end"
   ]
  },
  {
   "cell_type": "code",
   "execution_count": 5,
   "metadata": {},
   "outputs": [
    {
     "name": "stdout",
     "output_type": "stream",
     "text": [
      "  883.387 μs (58 allocations: 903.86 KiB)\n"
     ]
    }
   ],
   "source": [
    "@btime begin\n",
    "    A = randn(500,20)\n",
    "    for i=1:20\n",
    "    G = qrfactUnblocked(view(A,:,1:i))\n",
    "    end\n",
    "end"
   ]
  }
 ],
 "metadata": {
  "kernelspec": {
   "display_name": "Julia 1.5.3",
   "language": "julia",
   "name": "julia-1.5"
  },
  "language_info": {
   "file_extension": ".jl",
   "mimetype": "application/julia",
   "name": "julia",
   "version": "1.5.3"
  }
 },
 "nbformat": 4,
 "nbformat_minor": 4
}
