{
 "cells": [
  {
   "cell_type": "code",
   "execution_count": 1,
   "metadata": {},
   "outputs": [
    {
     "name": "stderr",
     "output_type": "stream",
     "text": [
      "\u001b[32m\u001b[1m Activating\u001b[22m\u001b[39m environment at `/media/mat/HDD/QROMP/Project.toml`\n"
     ]
    }
   ],
   "source": [
    "using Pkg\n",
    "# Pkg.activate(\"/home/mat/.julia/environments/v1.5/Project.toml\")\n",
    "Pkg.activate(\"/media/mat/HDD/QROMP/\")"
   ]
  },
  {
   "cell_type": "code",
   "execution_count": 2,
   "metadata": {},
   "outputs": [
    {
     "name": "stderr",
     "output_type": "stream",
     "text": [
      "┌ Info: Precompiling QROMP [2ae2181e-4684-4b2c-a413-203f2dd831ec]\n",
      "└ @ Base loading.jl:1278\n"
     ]
    }
   ],
   "source": [
    "using Revise\n",
    "using LinearAlgebra\n",
    "using Statistics\n",
    "using BenchmarkTools\n",
    "using QROMP\n",
    "using BlockDiagonal"
   ]
  },
  {
   "cell_type": "code",
   "execution_count": 106,
   "metadata": {},
   "outputs": [
    {
     "data": {
      "text/plain": [
       "(10, 5)"
      ]
     },
     "execution_count": 106,
     "metadata": {},
     "output_type": "execute_result"
    }
   ],
   "source": [
    "ψ = randn(10, 5)\n",
    "ϕ = randn(10)\n",
    "u = randn(10)\n",
    "c = ψ\\u;\n",
    "c0 = deepcopy(c)\n",
    "F = qrfactUnblocked(ψ);\n",
    "m, n = size(ψ)"
   ]
  },
  {
   "cell_type": "code",
   "execution_count": 107,
   "metadata": {},
   "outputs": [
    {
     "name": "stdout",
     "output_type": "stream",
     "text": [
      "c = [-0.13968331152188715, 0.20744740760361802, -0.2736449288487641, -0.2452211750762385, 0.16003668781359986]\n"
     ]
    },
    {
     "data": {
      "text/plain": [
       "5-element Array{Float64,1}:\n",
       " -0.13968331152188715\n",
       "  0.20744740760361802\n",
       " -0.2736449288487641\n",
       " -0.2452211750762385\n",
       "  0.16003668781359986"
      ]
     },
     "execution_count": 107,
     "metadata": {},
     "output_type": "execute_result"
    }
   ],
   "source": [
    "@show c"
   ]
  },
  {
   "cell_type": "code",
   "execution_count": 108,
   "metadata": {},
   "outputs": [
    {
     "name": "stdout",
     "output_type": "stream",
     "text": [
      "  0.000092 seconds (180 allocations: 409.625 KiB)\n"
     ]
    },
    {
     "data": {
      "text/plain": [
       "([2, 3, 4, 5, 1], [0.2074474076036181, -0.2736449288487641, -0.24522117507623847, 0.1600366878135997, -0.139683311521887], [-0.13968331152188715, 0.20744740760361802, -0.2736449288487641, -0.2452211750762385, 0.16003668781359986], QR{Float64,Array{Float64,2}}([3.714113039706446 -1.2696254436648913 … -1.3281613984654776 -1.5238595911560058; 0.444972551783379 4.418106356720047 … 0.49235485980423194 -0.4126510428589262; … ; -0.24018268993800543 -0.1204941598510186 … -0.17368559274615442 0.45337209708260606; 0.16561828814310414 -0.008516419007958582 … -0.09349298486369467 -0.529150340364789], [1.2057475927680779, 1.250222479213345, 1.2686599866148927, 1.4491185153710713, 1.0586462500891272]), [0.0 0.0 … 0.0 1.0; 1.0 0.0 … 0.0 0.0; … ; 0.0 0.0 … 0.0 0.0; 0.0 0.0 … 1.0 0.0], [0.0, 0.0, 0.0, 0.0, 1.0])"
      ]
     },
     "execution_count": 108,
     "metadata": {},
     "output_type": "execute_result"
    }
   ],
   "source": [
    "@time idx, cOMP, cLS, FOMP, P, ek = qromp(ψ, c, u)"
   ]
  },
  {
   "cell_type": "code",
   "execution_count": 111,
   "metadata": {},
   "outputs": [
    {
     "data": {
      "text/plain": [
       "5-element Array{Float64,1}:\n",
       " -0.13968331152188715\n",
       "  0.20744740760361802\n",
       " -0.2736449288487641\n",
       " -0.2452211750762385\n",
       "  0.16003668781359986"
      ]
     },
     "execution_count": 111,
     "metadata": {},
     "output_type": "execute_result"
    }
   ],
   "source": [
    "cLS"
   ]
  },
  {
   "cell_type": "code",
   "execution_count": 112,
   "metadata": {},
   "outputs": [
    {
     "data": {
      "text/plain": [
       "5-element Array{Float64,1}:\n",
       "  0.2074474076036181\n",
       " -0.2736449288487641\n",
       " -0.24522117507623847\n",
       "  0.1600366878135997\n",
       " -0.139683311521887"
      ]
     },
     "execution_count": 112,
     "metadata": {},
     "output_type": "execute_result"
    }
   ],
   "source": [
    "cOMP"
   ]
  },
  {
   "cell_type": "code",
   "execution_count": 110,
   "metadata": {},
   "outputs": [
    {
     "data": {
      "text/plain": [
       "10×5 Array{Float64,2}:\n",
       " -1.38778e-17   2.22045e-16   4.44089e-16  -1.11022e-16  -4.44089e-16\n",
       "  0.0           0.0          -2.22045e-16   0.0          -2.22045e-16\n",
       " -2.22045e-16   0.0           2.22045e-16   2.77556e-17   0.0\n",
       " -4.44089e-16   0.0          -2.22045e-16   0.0           0.0\n",
       "  0.0           0.0           0.0           0.0          -2.22045e-16\n",
       "  1.11022e-16   0.0           0.0           5.55112e-17  -1.11022e-16\n",
       " -2.22045e-16  -1.11022e-16   1.11022e-16   0.0           0.0\n",
       "  0.0           0.0           0.0           5.55112e-17   5.55112e-17\n",
       "  0.0           0.0           0.0           0.0           5.55112e-17\n",
       "  0.0           0.0           5.55112e-17   0.0          -1.11022e-16"
      ]
     },
     "execution_count": 110,
     "metadata": {},
     "output_type": "execute_result"
    }
   ],
   "source": [
    "FOMP.Q*FOMP.R*P'-ψ"
   ]
  },
  {
   "cell_type": "code",
   "execution_count": 74,
   "metadata": {},
   "outputs": [
    {
     "name": "stdout",
     "output_type": "stream",
     "text": [
      "normcol = [2.295229894632921, 3.8577630786296475, 2.1570039960723766, 5.01183467379606, 2.944282239584703]\n",
      "(entry, new_idx) = (5.290084514515703, 1)\n",
      "norm(res_OMP) / norm(u) = 0.8074598006228048\n",
      "(entry, new_idx) = (3.110374459725085, 3)\n",
      "norm(res_OMP) / norm(u) = 0.6656023726192064\n",
      "(entry, new_idx) = (1.6242063603795405, 4)\n",
      "norm(res_OMP) / norm(u) = 0.5759683159681794\n",
      "(entry, new_idx) = (1.0246926350150303, 2)\n",
      "norm(res_OMP) / norm(u) = 0.4906497491286512\n",
      "(entry, new_idx) = (0.044705391291883306, 5)\n",
      "norm(res_OMP) / norm(u) = 0.48499593629880516\n"
     ]
    }
   ],
   "source": [
    "## Orthogonal Matching Pursuit\n",
    "idx_OMP = Int64[]\n",
    "ϵ = 1e-1\n",
    "res_OMP = deepcopy(u)\n",
    "Γ_OMP = Float64[]\n",
    "dict_OMP = collect(1:n);\n",
    "entry = 0.0;\n",
    "counter = 0\n",
    "new_idx = 1\n",
    "\n",
    "normcol = norm.(eachcol(ψ))\n",
    "@show normcol\n",
    "c_OMP = zero(ψ\\u)\n",
    "\n",
    "@inbounds while counter < size(ψ,2) #&& norm(res_OMP)>ϵ\n",
    "    counter += 1\n",
    "    # Compute \n",
    "    entry = 0.0\n",
    "\n",
    "    for (i, idx) in enumerate(dict_OMP)\n",
    "        col = view(ψ,:,idx)\n",
    "        ratio = (dot(col,res_OMP)/normcol[idx])^2\n",
    "        # Find the largest entry and its index on the fly\n",
    "        if ratio > entry\n",
    "            entry = ratio\n",
    "            new_idx = idx\n",
    "        end\n",
    "    end\n",
    "    @show entry, new_idx\n",
    "    filter!(x-> x != new_idx, dict_OMP)\n",
    "    push!(idx_OMP, copy(new_idx))\n",
    "#     @assert sort(union(idx_OMP, dict_OMP)) == collect(1:nblob)\n",
    "    ψ_OMP = view(ψ,:,sort(idx_OMP))\n",
    "    c_OMP = ψ_OMP\\u\n",
    "    res_OMP = u-ψ_OMP*c_OMP\n",
    "    @show norm(res_OMP)/norm(u)\n",
    "end"
   ]
  },
  {
   "cell_type": "code",
   "execution_count": 75,
   "metadata": {},
   "outputs": [
    {
     "data": {
      "text/plain": [
       "5-element Array{Float64,1}:\n",
       " -0.9870716766793397\n",
       "  0.385696490747567\n",
       " -0.3994939702253127\n",
       " -0.3342135128920916\n",
       "  0.13469352291508357"
      ]
     },
     "execution_count": 75,
     "metadata": {},
     "output_type": "execute_result"
    }
   ],
   "source": [
    "c_OMP"
   ]
  },
  {
   "cell_type": "code",
   "execution_count": 76,
   "metadata": {},
   "outputs": [
    {
     "data": {
      "text/plain": [
       "5-element Array{Float64,1}:\n",
       " -0.9870716766793397\n",
       "  0.385696490747567\n",
       " -0.3994939702253127\n",
       " -0.3342135128920916\n",
       "  0.13469352291508357"
      ]
     },
     "execution_count": 76,
     "metadata": {},
     "output_type": "execute_result"
    }
   ],
   "source": [
    "cLS"
   ]
  },
  {
   "cell_type": "code",
   "execution_count": 35,
   "metadata": {},
   "outputs": [
    {
     "data": {
      "text/plain": [
       "100×100 Array{Float64,2}:\n",
       "  0.109049      0.0121885    -0.0247129   …   0.0528155    0.0340403\n",
       "  0.0121885     0.0834409     0.0120749       0.0337248    0.0107088\n",
       " -0.0247129     0.0120749     0.11785         0.00792615  -0.0205\n",
       " -0.0265195    -0.0176442     0.0559337      -0.00618252  -0.104716\n",
       "  1.3746e-5     0.0421841     0.0546239       0.0373985    0.0932801\n",
       "  0.0336775    -0.0062833    -0.079351    …  -0.0247392    0.0279264\n",
       "  0.0555426    -0.00431462   -0.0141412       0.0145937    0.0471913\n",
       "  0.0400674     0.00612087   -0.0226838       0.0203272   -0.0702643\n",
       "  0.0182465    -0.0171899     0.0323537      -0.0153783    0.0141202\n",
       " -0.00458054    0.0328571     0.0507023      -0.0111118   -0.0374159\n",
       "  0.00219689   -0.00106086    0.0097368   …   0.0209563    0.0111246\n",
       "  0.0445891    -0.0022222     0.0288602       0.00490472   0.0383929\n",
       "  0.0224388    -0.00176537   -0.0535356      -0.00801796   0.0413919\n",
       "  ⋮                                       ⋱               \n",
       " -0.0214373     0.00521737   -0.0389606      -0.0407421    0.036606\n",
       " -0.00797652   -0.0240068     0.0102544      -0.0179172    0.0163853\n",
       "  0.0277272     0.0413471     0.0126656   …   0.0135229    0.021433\n",
       "  0.00261762   -0.027983     -0.023483        0.00354393   0.0243239\n",
       "  0.043709     -0.0316069     0.0329033       0.0226726   -0.0345363\n",
       " -0.0236393    -0.0242435    -0.0436803       0.0140001   -0.0592189\n",
       " -0.0498641    -0.0224593     0.0274539      -0.0260944   -0.0381804\n",
       "  0.0223169    -0.0299807    -0.0317591   …  -0.00791316   0.00658172\n",
       "  0.000261539   0.000376994   0.0133138       0.0421607   -0.0648322\n",
       " -0.0197426    -0.000628437  -0.00455255     -0.0207696    0.0145611\n",
       "  0.0528155     0.0337248     0.00792615      0.0827386    0.00130032\n",
       "  0.0340403     0.0107088    -0.0205          0.00130032   0.197508"
      ]
     },
     "execution_count": 35,
     "metadata": {},
     "output_type": "execute_result"
    }
   ],
   "source": [
    "Matrix(F.Q)*Matrix(F.Q)'"
   ]
  },
  {
   "cell_type": "code",
   "execution_count": 30,
   "metadata": {},
   "outputs": [],
   "source": [
    "ψ*c-u;"
   ]
  },
  {
   "cell_type": "code",
   "execution_count": null,
   "metadata": {},
   "outputs": [],
   "source": []
  },
  {
   "cell_type": "code",
   "execution_count": 15,
   "metadata": {},
   "outputs": [
    {
     "name": "stdout",
     "output_type": "stream",
     "text": [
      "search: U\u001b[0m\u001b[1mn\u001b[22mif\u001b[0m\u001b[1mo\u001b[22m\u001b[0m\u001b[1mr\u001b[22m\u001b[0m\u001b[1mm\u001b[22m\u001b[0m\u001b[1mS\u001b[22mcaling set_zero_sub\u001b[0m\u001b[1mn\u001b[22m\u001b[0m\u001b[1mo\u001b[22m\u001b[0m\u001b[1mr\u001b[22m\u001b[0m\u001b[1mm\u001b[22mal\u001b[0m\u001b[1ms\u001b[22m get_zero_sub\u001b[0m\u001b[1mn\u001b[22m\u001b[0m\u001b[1mo\u001b[22m\u001b[0m\u001b[1mr\u001b[22m\u001b[0m\u001b[1mm\u001b[22mal\u001b[0m\u001b[1ms\u001b[22m\n",
      "\n",
      "Couldn't find \u001b[36mnormsqu\u001b[39m\n",
      "Perhaps you meant norm or normpath\n"
     ]
    },
    {
     "data": {
      "text/latex": [
       "No documentation found.\n",
       "\n",
       "Binding \\texttt{normsqu} does not exist.\n",
       "\n"
      ],
      "text/markdown": [
       "No documentation found.\n",
       "\n",
       "Binding `normsqu` does not exist.\n"
      ],
      "text/plain": [
       "  No documentation found.\n",
       "\n",
       "  Binding \u001b[36mnormsqu\u001b[39m does not exist."
      ]
     },
     "execution_count": 15,
     "metadata": {},
     "output_type": "execute_result"
    }
   ],
   "source": [
    "?normsqu"
   ]
  },
  {
   "cell_type": "code",
   "execution_count": 29,
   "metadata": {},
   "outputs": [
    {
     "data": {
      "text/plain": [
       "100-element Array{Float64,1}:\n",
       "  0.3758311589958424\n",
       "  1.0585258076048505\n",
       "  0.4447818407388319\n",
       "  0.008553486267878399\n",
       "  0.5800017631473279\n",
       "  3.188412904859621\n",
       " -0.429577451836499\n",
       "  0.208439956957505\n",
       " -0.08090965585245928\n",
       " -0.6038900950214523\n",
       "  1.329789864255415\n",
       " -0.4949821463908698\n",
       " -0.7068285764729044\n",
       "  ⋮\n",
       "  0.044066172301584106\n",
       "  1.0246146496589115\n",
       "  0.1878612517179839\n",
       " -0.4173313397315703\n",
       "  0.8272517442787691\n",
       "  2.206261988756783\n",
       "  0.34520276399716154\n",
       " -0.23646085941167977\n",
       "  0.7055617064816128\n",
       "  0.7709500107352945\n",
       " -2.4601768968417264\n",
       "  0.34420330677473154"
      ]
     },
     "execution_count": 29,
     "metadata": {},
     "output_type": "execute_result"
    }
   ],
   "source": [
    "(Matrix(F.Q)[:,1:9]*Matrix(F.Q)[:,1:9]' + Matrix(F.Q)[:,10]*Matrix(F.Q)[:,10]' - I)*u"
   ]
  },
  {
   "cell_type": "code",
   "execution_count": null,
   "metadata": {},
   "outputs": [],
   "source": []
  },
  {
   "cell_type": "code",
   "execution_count": 25,
   "metadata": {},
   "outputs": [
    {
     "data": {
      "text/plain": [
       "10-element Array{Float64,1}:\n",
       " -3.090247135269122\n",
       " -1.6048265352544309\n",
       "  0.03897833173484622\n",
       " -0.5814289181053852\n",
       " -0.7094619236376158\n",
       " -1.8678473043938453\n",
       "  0.10922273046087827\n",
       "  0.026014165881648843\n",
       "  1.1469596769660972\n",
       " -0.20439148335509472"
      ]
     },
     "execution_count": 25,
     "metadata": {},
     "output_type": "execute_result"
    }
   ],
   "source": [
    "Matrix(F.Q)'*u"
   ]
  },
  {
   "cell_type": "code",
   "execution_count": 19,
   "metadata": {},
   "outputs": [
    {
     "data": {
      "text/plain": [
       "100-element Array{Float64,1}:\n",
       "  0.3758311589958424\n",
       "  1.0585258076048505\n",
       "  0.4447818407388319\n",
       "  0.008553486267878371\n",
       "  0.5800017631473279\n",
       "  3.188412904859621\n",
       " -0.429577451836499\n",
       "  0.208439956957505\n",
       " -0.08090965585245928\n",
       " -0.6038900950214522\n",
       "  1.329789864255415\n",
       " -0.4949821463908697\n",
       " -0.7068285764729044\n",
       "  ⋮\n",
       "  0.044066172301584106\n",
       "  1.0246146496589115\n",
       "  0.1878612517179839\n",
       " -0.4173313397315703\n",
       "  0.8272517442787691\n",
       "  2.2062619887567827\n",
       "  0.3452027639971615\n",
       " -0.23646085941167988\n",
       "  0.7055617064816128\n",
       "  0.7709500107352945\n",
       " -2.4601768968417264\n",
       "  0.34420330677473154"
      ]
     },
     "execution_count": 19,
     "metadata": {},
     "output_type": "execute_result"
    }
   ],
   "source": [
    "(Matrix(F.Q)*Matrix(F.Q)'-I)*u"
   ]
  },
  {
   "cell_type": "code",
   "execution_count": 18,
   "metadata": {},
   "outputs": [
    {
     "data": {
      "text/plain": [
       "10×10 Array{Float64,2}:\n",
       "  1.0          -2.97047e-18   1.36488e-17  …   3.5366e-17   -7.8012e-18\n",
       " -2.97047e-18   1.0          -6.15815e-18     -6.53399e-17   3.4025e-17\n",
       "  1.36488e-17  -6.15815e-18   1.0             -2.49018e-17  -4.29891e-17\n",
       " -1.30726e-17  -7.77362e-17  -4.15673e-17      2.30869e-17  -7.65614e-17\n",
       "  4.07212e-17   2.5782e-17   -4.42018e-17      9.67024e-18  -3.81687e-17\n",
       " -4.78339e-17  -7.8102e-18   -1.00966e-17  …  -2.08837e-17   1.46289e-18\n",
       " -4.15594e-17   1.12025e-18  -5.314e-17        3.33712e-17  -4.02865e-17\n",
       "  3.59917e-17   1.26118e-17   1.0058e-16       2.78907e-17  -9.61818e-18\n",
       "  3.5366e-17   -6.53399e-17  -2.49018e-17      1.0          -2.36955e-17\n",
       " -7.8012e-18    3.4025e-17   -4.29891e-17     -2.36955e-17   1.0"
      ]
     },
     "execution_count": 18,
     "metadata": {},
     "output_type": "execute_result"
    }
   ],
   "source": [
    "Matrix(F.Q)'*Matrix(F.Q)"
   ]
  },
  {
   "cell_type": "code",
   "execution_count": 8,
   "metadata": {},
   "outputs": [
    {
     "name": "stdout",
     "output_type": "stream",
     "text": [
      "  0.000025 seconds (6 allocations: 51.094 KiB)\n"
     ]
    },
    {
     "data": {
      "text/plain": [
       "100×10 Array{Float64,2}:\n",
       " -0.0601161    0.0131009   -0.204613    …   0.000803645  -0.146612\n",
       " -0.139088    -0.0112863    0.0315648       0.0758086    -0.104971\n",
       " -0.127987    -0.0442696   -0.136143       -0.130357      0.00237226\n",
       "  0.0712545    0.0542568   -0.142453        0.0260971    -0.139892\n",
       " -0.0799792   -0.0234555    0.0847968       0.0048141     0.244689\n",
       " -0.115188    -0.0597474    0.101312    …  -0.130346      0.104948\n",
       "  0.286876    -0.0588683   -0.0310429      -0.0740838     0.0468238\n",
       "  0.0743137    0.048656    -0.0852818       0.0803014    -0.0448807\n",
       " -0.0758305   -0.043444    -0.248028       -0.0488789     0.120366\n",
       "  0.0470619   -0.0754272    0.0280316      -0.0710276     0.00604375\n",
       " -0.100689    -0.0678126   -0.0281702   …   0.11979       0.0909163\n",
       " -0.0757729   -0.00886938   0.0573663      -0.0120697    -0.0452479\n",
       " -0.00954337   0.120647     0.0617183       0.0216977     0.0604418\n",
       "  ⋮                                     ⋱                \n",
       " -0.0169328   -0.0404478   -0.132958       -0.118685      0.0457655\n",
       " -0.0292098   -0.0378515    0.0824522      -0.0533787    -0.0605429\n",
       "  0.204298     0.0228403    0.0313305   …   0.0432391    -0.0975647\n",
       " -0.142073    -0.0696846   -0.125555       -0.11366      -0.111026\n",
       " -0.00849641   0.068602    -0.0449452      -0.0834845    -0.0712805\n",
       " -0.175743    -0.0654368   -0.00421747     -0.132703      0.00511797\n",
       "  0.0592649    0.0254266    0.254832       -0.00517129    0.018802\n",
       "  0.0929187    0.0419171    0.119782    …  -0.0798551    -0.161884\n",
       " -0.0601727   -0.167364    -0.0241027       0.25876       0.0967299\n",
       "  0.00790666   0.125993     0.0616457       0.0234343     0.000124677\n",
       " -0.297822     0.0717032    0.0656633       0.131298      0.108291\n",
       "  0.0883481   -0.0984114   -0.0267522       0.0541445     0.130746"
      ]
     },
     "execution_count": 8,
     "metadata": {},
     "output_type": "execute_result"
    }
   ],
   "source": [
    "@time Matrix(F.Q)"
   ]
  },
  {
   "cell_type": "code",
   "execution_count": 15,
   "metadata": {},
   "outputs": [],
   "source": [
    "# @show norm(F.Q*F.R-ψ)\n",
    "# @show norm(F.Q'*F.Q-I)\n",
    "# @show norm(F.Q*F.Q'-I)"
   ]
  },
  {
   "cell_type": "code",
   "execution_count": 122,
   "metadata": {},
   "outputs": [
    {
     "name": "stdout",
     "output_type": "stream",
     "text": [
      "  1.110 ms (197 allocations: 19.28 MiB)\n"
     ]
    }
   ],
   "source": [
    "@btime begin\n",
    "    A = randn(500,1)\n",
    "    ϕ = randn(500)\n",
    "    for i=1:99\n",
    "    A = hcat(A, ϕ)\n",
    "    end\n",
    "end"
   ]
  },
  {
   "cell_type": "code",
   "execution_count": 109,
   "metadata": {},
   "outputs": [
    {
     "name": "stdout",
     "output_type": "stream",
     "text": [
      "  39.147 μs (181 allocations: 812.48 KiB)\n"
     ]
    }
   ],
   "source": [
    "@btime begin\n",
    "    G = qrfactUnblocked(view(ψ,:,1:1))\n",
    "    for i=2:20\n",
    "    G = updateqrfactUnblocked!(G, view(ψ,:,i))\n",
    "    end\n",
    "end"
   ]
  },
  {
   "cell_type": "code",
   "execution_count": 117,
   "metadata": {},
   "outputs": [
    {
     "name": "stdout",
     "output_type": "stream",
     "text": [
      "  0.000030 seconds (4 allocations: 1.172 KiB)\n",
      "  0.000008 seconds (3 allocations: 928 bytes)\n",
      "  0.000656 seconds (611 allocations: 399.688 KiB)\n"
     ]
    }
   ],
   "source": [
    "# https://discourse.julialang.org/t/extract-submatrix-from-qr-factor-is-slow-julia-1-4/36582/4\n",
    "# We want to avoid to form the Q matrix, instead, we want to leverage the Householder reflections\n",
    "# For steps 6. and 11. of Baptista et al. 2019\n",
    "@time q = (F.Q*ek) #2.852 μs (4 allocations: 1.17 KiB)\n",
    "@time (q'*u)*q #102.923 ns (3 allocations: 928 bytes)\n",
    "@time ((F.Q[:,end])'*u)*F.Q[:,end] #559.818 μs (610 allocations: 399.67 KiB);"
   ]
  }
 ],
 "metadata": {
  "kernelspec": {
   "display_name": "Julia 1.5.3",
   "language": "julia",
   "name": "julia-1.5"
  },
  "language_info": {
   "file_extension": ".jl",
   "mimetype": "application/julia",
   "name": "julia",
   "version": "1.5.3"
  }
 },
 "nbformat": 4,
 "nbformat_minor": 4
}
