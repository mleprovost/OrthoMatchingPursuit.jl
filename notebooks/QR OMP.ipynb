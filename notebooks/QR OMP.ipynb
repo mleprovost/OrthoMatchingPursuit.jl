{
 "cells": [
  {
   "cell_type": "code",
   "execution_count": 1,
   "metadata": {},
   "outputs": [
    {
     "name": "stderr",
     "output_type": "stream",
     "text": [
      "\u001b[32m\u001b[1m Activating\u001b[22m\u001b[39m environment at `/media/mat/HDD/QROMP/Project.toml`\n"
     ]
    }
   ],
   "source": [
    "using Pkg\n",
    "# Pkg.activate(\"/home/mat/.julia/environments/v1.5/Project.toml\")\n",
    "Pkg.activate(\"/media/mat/HDD/QROMP/\")"
   ]
  },
  {
   "cell_type": "code",
   "execution_count": 8,
   "metadata": {},
   "outputs": [
    {
     "name": "stdout",
     "output_type": "stream",
     "text": [
      "search: \u001b[0m\u001b[1mA\u001b[22m\u001b[0m\u001b[1mb\u001b[22m\u001b[0m\u001b[1ms\u001b[22m\u001b[0m\u001b[1mt\u001b[22m\u001b[0m\u001b[1mr\u001b[22m\u001b[0m\u001b[1ma\u001b[22m\u001b[0m\u001b[1mc\u001b[22m\u001b[0m\u001b[1mt\u001b[22m\u001b[0m\u001b[1mV\u001b[22m\u001b[0m\u001b[1me\u001b[22m\u001b[0m\u001b[1mc\u001b[22m\u001b[0m\u001b[1mt\u001b[22m\u001b[0m\u001b[1mo\u001b[22m\u001b[0m\u001b[1mr\u001b[22m \u001b[0m\u001b[1mA\u001b[22m\u001b[0m\u001b[1mb\u001b[22m\u001b[0m\u001b[1ms\u001b[22m\u001b[0m\u001b[1mt\u001b[22m\u001b[0m\u001b[1mr\u001b[22m\u001b[0m\u001b[1ma\u001b[22m\u001b[0m\u001b[1mc\u001b[22m\u001b[0m\u001b[1mt\u001b[22m\u001b[0m\u001b[1mV\u001b[22m\u001b[0m\u001b[1me\u001b[22m\u001b[0m\u001b[1mc\u001b[22mOrMa\u001b[0m\u001b[1mt\u001b[22m\n",
      "\n"
     ]
    },
    {
     "data": {
      "text/latex": [
       "\\begin{verbatim}\n",
       "AbstractVector{T}\n",
       "\\end{verbatim}\n",
       "Supertype for one-dimensional arrays (or array-like types) with elements of type \\texttt{T}. Alias for \\href{@ref}{\\texttt{AbstractArray\\{T,1\\}}}.\n",
       "\n"
      ],
      "text/markdown": [
       "```\n",
       "AbstractVector{T}\n",
       "```\n",
       "\n",
       "Supertype for one-dimensional arrays (or array-like types) with elements of type `T`. Alias for [`AbstractArray{T,1}`](@ref).\n"
      ],
      "text/plain": [
       "\u001b[36m  AbstractVector{T}\u001b[39m\n",
       "\n",
       "  Supertype for one-dimensional arrays (or array-like types) with elements of\n",
       "  type \u001b[36mT\u001b[39m. Alias for \u001b[36mAbstractArray{T,1}\u001b[39m."
      ]
     },
     "execution_count": 8,
     "metadata": {},
     "output_type": "execute_result"
    }
   ],
   "source": [
    "?AbstractVector"
   ]
  },
  {
   "cell_type": "code",
   "execution_count": 3,
   "metadata": {},
   "outputs": [
    {
     "name": "stderr",
     "output_type": "stream",
     "text": [
      "┌ Info: Precompiling QROMP [2ae2181e-4684-4b2c-a413-203f2dd831ec]\n",
      "└ @ Base loading.jl:1278\n"
     ]
    }
   ],
   "source": [
    "using Revise\n",
    "using LinearAlgebra\n",
    "using Statistics\n",
    "using BenchmarkTools\n",
    "using QROMP\n",
    "using BlockDiagonal"
   ]
  },
  {
   "cell_type": "code",
   "execution_count": 87,
   "metadata": {},
   "outputs": [
    {
     "data": {
      "text/plain": [
       "(200, 20)"
      ]
     },
     "execution_count": 87,
     "metadata": {},
     "output_type": "execute_result"
    }
   ],
   "source": [
    "ψ = randn(200, 20)\n",
    "ϕ = randn(200)\n",
    "u = randn(200)\n",
    "cLS = ψ\\u;\n",
    "c = deepcopy(cLS)\n",
    "F = qrfactUnblocked(ψ);\n",
    "m, n = size(ψ)"
   ]
  },
  {
   "cell_type": "code",
   "execution_count": 88,
   "metadata": {},
   "outputs": [
    {
     "name": "stdout",
     "output_type": "stream",
     "text": [
      "(entry, new_idx) = (10.397531590230626, 12)\n",
      "ϵ / norm(u) = 0.9769681247975441\n",
      "(entry, new_idx) = (5.7246706001450605, 4)\n",
      "ϵ / norm(u) = 0.9648389863597427\n",
      "(entry, new_idx) = (3.0493449867358136, 20)\n",
      "ϵ / norm(u) = 0.9564153924648428\n",
      "(entry, new_idx) = (2.5418652031968163, 19)\n",
      "ϵ / norm(u) = 0.9507768586789362\n",
      "(entry, new_idx) = (2.4301762352493115, 14)\n",
      "ϵ / norm(u) = 0.9455587318965851\n",
      "(entry, new_idx) = (1.290193298309244, 6)\n",
      "ϵ / norm(u) = 0.9448564684083726\n",
      "(entry, new_idx) = (1.3005787062057623, 11)\n",
      "ϵ / norm(u) = 0.9426228565551873\n",
      "(entry, new_idx) = (0.9747988648636292, 8)\n",
      "ϵ / norm(u) = 0.9405206136966108\n",
      "(entry, new_idx) = (0.8049901018122284, 16)\n",
      "ϵ / norm(u) = 0.9379072156550894\n",
      "(entry, new_idx) = (0.8683767373480213, 7)\n",
      "ϵ / norm(u) = 0.9346117935575784\n",
      "(entry, new_idx) = (0.7571251984076592, 9)\n",
      "ϵ / norm(u) = 0.9300718094034759\n",
      "(entry, new_idx) = (0.7061100344002095, 17)\n",
      "ϵ / norm(u) = 0.9274603875587037\n",
      "(entry, new_idx) = (0.631904903635601, 2)\n",
      "ϵ / norm(u) = 0.926321493136659\n",
      "(entry, new_idx) = (0.3596342397295239, 1)\n",
      "ϵ / norm(u) = 0.923921841375134\n",
      "(entry, new_idx) = (0.3116651629404931, 3)\n",
      "ϵ / norm(u) = 0.9237192570380305\n",
      "(entry, new_idx) = (0.26330991918542285, 10)\n",
      "ϵ / norm(u) = 0.9232031599251458\n",
      "(entry, new_idx) = (0.23196487067927352, 18)\n",
      "ϵ / norm(u) = 0.9228001107407836\n",
      "(entry, new_idx) = (0.1284322121619301, 5)\n",
      "ϵ / norm(u) = 0.922108649439857\n",
      "(entry, new_idx) = (0.058846010259100905, 15)\n",
      "ϵ / norm(u) = 0.9216052341424005\n",
      "(entry, new_idx) = (0.03072563082852254, 13)\n",
      "ϵ / norm(u) = 0.9215901734051875\n",
      "  0.128030 seconds (274.30 k allocations: 15.218 MiB)\n"
     ]
    },
    {
     "data": {
      "text/plain": [
       "([12, 4, 20, 19, 14, 6, 11, 8, 16, 7, 9, 17, 2, 1, 3, 10, 18, 5, 15, 13], [-0.22893298017020056, -0.19833687337229047, 0.10831491616358353, 0.1286377186755413, 0.13294862883240113, -0.07097317469212813, -0.09290169679432213, 0.06023704146510468, -0.048828862550079295, -0.08316094848217126, -0.07945846647801239, 0.0955396468944632, 0.04964730719108337, -0.07111574945106942, 0.029627897871535983, 0.03543172771473846, 0.03348166341879515, -0.039324101082884824, -0.03519504279275514, 0.005475690613710008])"
      ]
     },
     "execution_count": 88,
     "metadata": {},
     "output_type": "execute_result"
    }
   ],
   "source": [
    "@time idx, cOMP = qromp(ψ, c, u)"
   ]
  },
  {
   "cell_type": "code",
   "execution_count": 92,
   "metadata": {},
   "outputs": [
    {
     "data": {
      "text/plain": [
       "20-element Array{Int64,1}:\n",
       "   0\n",
       "   0\n",
       "   0\n",
       "   0\n",
       "   0\n",
       "   0\n",
       "   0\n",
       "   0\n",
       "   0\n",
       " -11\n",
       "   7\n",
       "   0\n",
       "  -5\n",
       "  -8\n",
       "   0\n",
       "   9\n",
       "   8\n",
       "  -8\n",
       "   0\n",
       "   8"
      ]
     },
     "execution_count": 92,
     "metadata": {},
     "output_type": "execute_result"
    }
   ],
   "source": [
    "idx-idx_OMP"
   ]
  },
  {
   "cell_type": "code",
   "execution_count": 89,
   "metadata": {},
   "outputs": [
    {
     "name": "stdout",
     "output_type": "stream",
     "text": [
      "normcol = [14.62798030658952, 13.571259530700884, 14.317549822758316, 14.462256227857456, 13.533793533343166, 14.843216917077058, 15.376513686487923, 14.219570349396204, 15.080310294080123, 14.373010115972056, 14.248216522530477, 13.386562574709274, 15.049055436228175, 12.83617939679459, 13.477451319075639, 13.176636752125802, 13.374512356984276, 13.816755091674063, 13.592692103156587, 12.60525386441429]\n",
      "(entry, new_idx) = (10.397531590230624, 12)\n",
      "norm(res_OMP) / norm(u) = 0.9769681247975441\n",
      "(entry, new_idx) = (5.344699323995752, 4)\n",
      "norm(res_OMP) / norm(u) = 0.9648370967248634\n",
      "(entry, new_idx) = (2.869344912907327, 20)\n",
      "norm(res_OMP) / norm(u) = 0.958264070149075\n",
      "(entry, new_idx) = (2.343355050629822, 19)\n",
      "norm(res_OMP) / norm(u) = 0.952824135002773\n",
      "(entry, new_idx) = (2.378187430025478, 14)\n",
      "norm(res_OMP) / norm(u) = 0.9472983490801067\n",
      "(entry, new_idx) = (1.154046908600812, 6)\n",
      "norm(res_OMP) / norm(u) = 0.9445218062853434\n",
      "(entry, new_idx) = (1.2435177450153434, 11)\n",
      "norm(res_OMP) / norm(u) = 0.941577794669644\n",
      "(entry, new_idx) = (0.767852151898317, 8)\n",
      "norm(res_OMP) / norm(u) = 0.939719096060073\n",
      "(entry, new_idx) = (0.8065769110936489, 16)\n",
      "norm(res_OMP) / norm(u) = 0.9378166237906234\n",
      "(entry, new_idx) = (0.5638614625639811, 18)\n",
      "norm(res_OMP) / norm(u) = 0.9364715684906554\n",
      "(entry, new_idx) = (0.4779815302160654, 2)\n",
      "norm(res_OMP) / norm(u) = 0.935315445682877\n",
      "(entry, new_idx) = (0.3719903073601827, 17)\n",
      "norm(res_OMP) / norm(u) = 0.9344162372161061\n",
      "(entry, new_idx) = (0.4133052339696425, 7)\n",
      "norm(res_OMP) / norm(u) = 0.933313971224974\n",
      "(entry, new_idx) = (0.31656282907169664, 9)\n",
      "norm(res_OMP) / norm(u) = 0.9324602866396937\n",
      "(entry, new_idx) = (0.1928754785054857, 3)\n",
      "norm(res_OMP) / norm(u) = 0.9319679790176152\n",
      "(entry, new_idx) = (0.2073252323997927, 1)\n",
      "norm(res_OMP) / norm(u) = 0.9314391957686731\n",
      "(entry, new_idx) = (0.05044160787883115, 10)\n",
      "norm(res_OMP) / norm(u) = 0.9313089991219552\n",
      "(entry, new_idx) = (0.04609566812707236, 13)\n",
      "norm(res_OMP) / norm(u) = 0.9311923946534795\n",
      "(entry, new_idx) = (0.03284920348941619, 15)\n",
      "norm(res_OMP) / norm(u) = 0.9311082706716226\n",
      "(entry, new_idx) = (0.01426515607599803, 5)\n",
      "norm(res_OMP) / norm(u) = 0.9310703627939088\n"
     ]
    }
   ],
   "source": [
    "## Orthogonal Matching Pursuit\n",
    "idx_OMP = Int64[]\n",
    "ϵ = 1e-1\n",
    "res_OMP = deepcopy(u)\n",
    "Γ_OMP = Float64[]\n",
    "dict_OMP = collect(1:n);\n",
    "entry = 0.0;\n",
    "counter = 0\n",
    "new_idx = 1\n",
    "\n",
    "normcol = norm.(eachcol(ψ))\n",
    "@show normcol\n",
    "\n",
    "@inbounds while counter < size(ψ,2) #&& norm(res_OMP)>ϵ\n",
    "    counter += 1\n",
    "    # Compute \n",
    "    entry = 0.0\n",
    "\n",
    "    for (i, idx) in enumerate(dict_OMP)\n",
    "        col = view(ψ,:,idx)\n",
    "        ratio = (dot(col,res_OMP)/normcol[idx])^2\n",
    "        # Find the largest entry and its index on the fly\n",
    "        if ratio > entry\n",
    "            entry = ratio\n",
    "            new_idx = idx\n",
    "        end\n",
    "    end\n",
    "    @show entry, new_idx\n",
    "    filter!(x-> x != new_idx, dict_OMP)\n",
    "    push!(idx_OMP, copy(new_idx))\n",
    "#     @assert sort(union(idx_OMP, dict_OMP)) == collect(1:nblob)\n",
    "    ψ_OMP = view(ψ,:,sort(idx_OMP))\n",
    "    c_OMP = ψ_OMP\\u\n",
    "    res_OMP = u-ψ_OMP*c_OMP\n",
    "    @show norm(res_OMP)/norm(u)\n",
    "end"
   ]
  },
  {
   "cell_type": "code",
   "execution_count": 90,
   "metadata": {},
   "outputs": [
    {
     "data": {
      "text/plain": [
       "20-element Array{Int64,1}:\n",
       " 12\n",
       "  4\n",
       " 20\n",
       " 19\n",
       " 14\n",
       "  6\n",
       " 11\n",
       "  8\n",
       " 16\n",
       " 18\n",
       "  2\n",
       " 17\n",
       "  7\n",
       "  9\n",
       "  3\n",
       "  1\n",
       " 10\n",
       " 13\n",
       " 15\n",
       "  5"
      ]
     },
     "execution_count": 90,
     "metadata": {},
     "output_type": "execute_result"
    }
   ],
   "source": [
    "idx_OMP"
   ]
  },
  {
   "cell_type": "code",
   "execution_count": 74,
   "metadata": {},
   "outputs": [
    {
     "data": {
      "text/plain": [
       "200-element Array{Float64,1}:\n",
       " -2.047442189180021\n",
       " -0.4867421936357108\n",
       "  0.6670013725408666\n",
       "  0.5482542889475498\n",
       " -1.6342868052830088\n",
       "  1.0063960956436688\n",
       "  0.012272159167722618\n",
       "  1.5636552730333344\n",
       " -0.9981578709714536\n",
       " -0.12955482670627622\n",
       "  0.787134229386218\n",
       "  0.6529049515847127\n",
       " -1.1348869965634867\n",
       "  ⋮\n",
       " -0.06374753360763968\n",
       " -1.2065695418416569\n",
       "  0.3703885160122159\n",
       "  1.4924700603516543\n",
       " -0.6065413636800646\n",
       " -0.43867632262766065\n",
       " -1.6127450508204277\n",
       "  0.14248214305478846\n",
       "  0.7375082124132202\n",
       " -0.17999768866365706\n",
       "  1.4702358479418995\n",
       " -0.19105623821183815"
      ]
     },
     "execution_count": 74,
     "metadata": {},
     "output_type": "execute_result"
    }
   ],
   "source": [
    "ψ[:,idx]*cOMP-u"
   ]
  },
  {
   "cell_type": "code",
   "execution_count": 35,
   "metadata": {},
   "outputs": [
    {
     "data": {
      "text/plain": [
       "100×100 Array{Float64,2}:\n",
       "  0.109049      0.0121885    -0.0247129   …   0.0528155    0.0340403\n",
       "  0.0121885     0.0834409     0.0120749       0.0337248    0.0107088\n",
       " -0.0247129     0.0120749     0.11785         0.00792615  -0.0205\n",
       " -0.0265195    -0.0176442     0.0559337      -0.00618252  -0.104716\n",
       "  1.3746e-5     0.0421841     0.0546239       0.0373985    0.0932801\n",
       "  0.0336775    -0.0062833    -0.079351    …  -0.0247392    0.0279264\n",
       "  0.0555426    -0.00431462   -0.0141412       0.0145937    0.0471913\n",
       "  0.0400674     0.00612087   -0.0226838       0.0203272   -0.0702643\n",
       "  0.0182465    -0.0171899     0.0323537      -0.0153783    0.0141202\n",
       " -0.00458054    0.0328571     0.0507023      -0.0111118   -0.0374159\n",
       "  0.00219689   -0.00106086    0.0097368   …   0.0209563    0.0111246\n",
       "  0.0445891    -0.0022222     0.0288602       0.00490472   0.0383929\n",
       "  0.0224388    -0.00176537   -0.0535356      -0.00801796   0.0413919\n",
       "  ⋮                                       ⋱               \n",
       " -0.0214373     0.00521737   -0.0389606      -0.0407421    0.036606\n",
       " -0.00797652   -0.0240068     0.0102544      -0.0179172    0.0163853\n",
       "  0.0277272     0.0413471     0.0126656   …   0.0135229    0.021433\n",
       "  0.00261762   -0.027983     -0.023483        0.00354393   0.0243239\n",
       "  0.043709     -0.0316069     0.0329033       0.0226726   -0.0345363\n",
       " -0.0236393    -0.0242435    -0.0436803       0.0140001   -0.0592189\n",
       " -0.0498641    -0.0224593     0.0274539      -0.0260944   -0.0381804\n",
       "  0.0223169    -0.0299807    -0.0317591   …  -0.00791316   0.00658172\n",
       "  0.000261539   0.000376994   0.0133138       0.0421607   -0.0648322\n",
       " -0.0197426    -0.000628437  -0.00455255     -0.0207696    0.0145611\n",
       "  0.0528155     0.0337248     0.00792615      0.0827386    0.00130032\n",
       "  0.0340403     0.0107088    -0.0205          0.00130032   0.197508"
      ]
     },
     "execution_count": 35,
     "metadata": {},
     "output_type": "execute_result"
    }
   ],
   "source": [
    "Matrix(F.Q)*Matrix(F.Q)'"
   ]
  },
  {
   "cell_type": "code",
   "execution_count": 30,
   "metadata": {},
   "outputs": [],
   "source": [
    "ψ*c-u;"
   ]
  },
  {
   "cell_type": "code",
   "execution_count": null,
   "metadata": {},
   "outputs": [],
   "source": []
  },
  {
   "cell_type": "code",
   "execution_count": 15,
   "metadata": {},
   "outputs": [
    {
     "name": "stdout",
     "output_type": "stream",
     "text": [
      "search: U\u001b[0m\u001b[1mn\u001b[22mif\u001b[0m\u001b[1mo\u001b[22m\u001b[0m\u001b[1mr\u001b[22m\u001b[0m\u001b[1mm\u001b[22m\u001b[0m\u001b[1mS\u001b[22mcaling set_zero_sub\u001b[0m\u001b[1mn\u001b[22m\u001b[0m\u001b[1mo\u001b[22m\u001b[0m\u001b[1mr\u001b[22m\u001b[0m\u001b[1mm\u001b[22mal\u001b[0m\u001b[1ms\u001b[22m get_zero_sub\u001b[0m\u001b[1mn\u001b[22m\u001b[0m\u001b[1mo\u001b[22m\u001b[0m\u001b[1mr\u001b[22m\u001b[0m\u001b[1mm\u001b[22mal\u001b[0m\u001b[1ms\u001b[22m\n",
      "\n",
      "Couldn't find \u001b[36mnormsqu\u001b[39m\n",
      "Perhaps you meant norm or normpath\n"
     ]
    },
    {
     "data": {
      "text/latex": [
       "No documentation found.\n",
       "\n",
       "Binding \\texttt{normsqu} does not exist.\n",
       "\n"
      ],
      "text/markdown": [
       "No documentation found.\n",
       "\n",
       "Binding `normsqu` does not exist.\n"
      ],
      "text/plain": [
       "  No documentation found.\n",
       "\n",
       "  Binding \u001b[36mnormsqu\u001b[39m does not exist."
      ]
     },
     "execution_count": 15,
     "metadata": {},
     "output_type": "execute_result"
    }
   ],
   "source": [
    "?normsqu"
   ]
  },
  {
   "cell_type": "code",
   "execution_count": 29,
   "metadata": {},
   "outputs": [
    {
     "data": {
      "text/plain": [
       "100-element Array{Float64,1}:\n",
       "  0.3758311589958424\n",
       "  1.0585258076048505\n",
       "  0.4447818407388319\n",
       "  0.008553486267878399\n",
       "  0.5800017631473279\n",
       "  3.188412904859621\n",
       " -0.429577451836499\n",
       "  0.208439956957505\n",
       " -0.08090965585245928\n",
       " -0.6038900950214523\n",
       "  1.329789864255415\n",
       " -0.4949821463908698\n",
       " -0.7068285764729044\n",
       "  ⋮\n",
       "  0.044066172301584106\n",
       "  1.0246146496589115\n",
       "  0.1878612517179839\n",
       " -0.4173313397315703\n",
       "  0.8272517442787691\n",
       "  2.206261988756783\n",
       "  0.34520276399716154\n",
       " -0.23646085941167977\n",
       "  0.7055617064816128\n",
       "  0.7709500107352945\n",
       " -2.4601768968417264\n",
       "  0.34420330677473154"
      ]
     },
     "execution_count": 29,
     "metadata": {},
     "output_type": "execute_result"
    }
   ],
   "source": [
    "(Matrix(F.Q)[:,1:9]*Matrix(F.Q)[:,1:9]' + Matrix(F.Q)[:,10]*Matrix(F.Q)[:,10]' - I)*u"
   ]
  },
  {
   "cell_type": "code",
   "execution_count": null,
   "metadata": {},
   "outputs": [],
   "source": []
  },
  {
   "cell_type": "code",
   "execution_count": 25,
   "metadata": {},
   "outputs": [
    {
     "data": {
      "text/plain": [
       "10-element Array{Float64,1}:\n",
       " -3.090247135269122\n",
       " -1.6048265352544309\n",
       "  0.03897833173484622\n",
       " -0.5814289181053852\n",
       " -0.7094619236376158\n",
       " -1.8678473043938453\n",
       "  0.10922273046087827\n",
       "  0.026014165881648843\n",
       "  1.1469596769660972\n",
       " -0.20439148335509472"
      ]
     },
     "execution_count": 25,
     "metadata": {},
     "output_type": "execute_result"
    }
   ],
   "source": [
    "Matrix(F.Q)'*u"
   ]
  },
  {
   "cell_type": "code",
   "execution_count": 19,
   "metadata": {},
   "outputs": [
    {
     "data": {
      "text/plain": [
       "100-element Array{Float64,1}:\n",
       "  0.3758311589958424\n",
       "  1.0585258076048505\n",
       "  0.4447818407388319\n",
       "  0.008553486267878371\n",
       "  0.5800017631473279\n",
       "  3.188412904859621\n",
       " -0.429577451836499\n",
       "  0.208439956957505\n",
       " -0.08090965585245928\n",
       " -0.6038900950214522\n",
       "  1.329789864255415\n",
       " -0.4949821463908697\n",
       " -0.7068285764729044\n",
       "  ⋮\n",
       "  0.044066172301584106\n",
       "  1.0246146496589115\n",
       "  0.1878612517179839\n",
       " -0.4173313397315703\n",
       "  0.8272517442787691\n",
       "  2.2062619887567827\n",
       "  0.3452027639971615\n",
       " -0.23646085941167988\n",
       "  0.7055617064816128\n",
       "  0.7709500107352945\n",
       " -2.4601768968417264\n",
       "  0.34420330677473154"
      ]
     },
     "execution_count": 19,
     "metadata": {},
     "output_type": "execute_result"
    }
   ],
   "source": [
    "(Matrix(F.Q)*Matrix(F.Q)'-I)*u"
   ]
  },
  {
   "cell_type": "code",
   "execution_count": 18,
   "metadata": {},
   "outputs": [
    {
     "data": {
      "text/plain": [
       "10×10 Array{Float64,2}:\n",
       "  1.0          -2.97047e-18   1.36488e-17  …   3.5366e-17   -7.8012e-18\n",
       " -2.97047e-18   1.0          -6.15815e-18     -6.53399e-17   3.4025e-17\n",
       "  1.36488e-17  -6.15815e-18   1.0             -2.49018e-17  -4.29891e-17\n",
       " -1.30726e-17  -7.77362e-17  -4.15673e-17      2.30869e-17  -7.65614e-17\n",
       "  4.07212e-17   2.5782e-17   -4.42018e-17      9.67024e-18  -3.81687e-17\n",
       " -4.78339e-17  -7.8102e-18   -1.00966e-17  …  -2.08837e-17   1.46289e-18\n",
       " -4.15594e-17   1.12025e-18  -5.314e-17        3.33712e-17  -4.02865e-17\n",
       "  3.59917e-17   1.26118e-17   1.0058e-16       2.78907e-17  -9.61818e-18\n",
       "  3.5366e-17   -6.53399e-17  -2.49018e-17      1.0          -2.36955e-17\n",
       " -7.8012e-18    3.4025e-17   -4.29891e-17     -2.36955e-17   1.0"
      ]
     },
     "execution_count": 18,
     "metadata": {},
     "output_type": "execute_result"
    }
   ],
   "source": [
    "Matrix(F.Q)'*Matrix(F.Q)"
   ]
  },
  {
   "cell_type": "code",
   "execution_count": 8,
   "metadata": {},
   "outputs": [
    {
     "name": "stdout",
     "output_type": "stream",
     "text": [
      "  0.000025 seconds (6 allocations: 51.094 KiB)\n"
     ]
    },
    {
     "data": {
      "text/plain": [
       "100×10 Array{Float64,2}:\n",
       " -0.0601161    0.0131009   -0.204613    …   0.000803645  -0.146612\n",
       " -0.139088    -0.0112863    0.0315648       0.0758086    -0.104971\n",
       " -0.127987    -0.0442696   -0.136143       -0.130357      0.00237226\n",
       "  0.0712545    0.0542568   -0.142453        0.0260971    -0.139892\n",
       " -0.0799792   -0.0234555    0.0847968       0.0048141     0.244689\n",
       " -0.115188    -0.0597474    0.101312    …  -0.130346      0.104948\n",
       "  0.286876    -0.0588683   -0.0310429      -0.0740838     0.0468238\n",
       "  0.0743137    0.048656    -0.0852818       0.0803014    -0.0448807\n",
       " -0.0758305   -0.043444    -0.248028       -0.0488789     0.120366\n",
       "  0.0470619   -0.0754272    0.0280316      -0.0710276     0.00604375\n",
       " -0.100689    -0.0678126   -0.0281702   …   0.11979       0.0909163\n",
       " -0.0757729   -0.00886938   0.0573663      -0.0120697    -0.0452479\n",
       " -0.00954337   0.120647     0.0617183       0.0216977     0.0604418\n",
       "  ⋮                                     ⋱                \n",
       " -0.0169328   -0.0404478   -0.132958       -0.118685      0.0457655\n",
       " -0.0292098   -0.0378515    0.0824522      -0.0533787    -0.0605429\n",
       "  0.204298     0.0228403    0.0313305   …   0.0432391    -0.0975647\n",
       " -0.142073    -0.0696846   -0.125555       -0.11366      -0.111026\n",
       " -0.00849641   0.068602    -0.0449452      -0.0834845    -0.0712805\n",
       " -0.175743    -0.0654368   -0.00421747     -0.132703      0.00511797\n",
       "  0.0592649    0.0254266    0.254832       -0.00517129    0.018802\n",
       "  0.0929187    0.0419171    0.119782    …  -0.0798551    -0.161884\n",
       " -0.0601727   -0.167364    -0.0241027       0.25876       0.0967299\n",
       "  0.00790666   0.125993     0.0616457       0.0234343     0.000124677\n",
       " -0.297822     0.0717032    0.0656633       0.131298      0.108291\n",
       "  0.0883481   -0.0984114   -0.0267522       0.0541445     0.130746"
      ]
     },
     "execution_count": 8,
     "metadata": {},
     "output_type": "execute_result"
    }
   ],
   "source": [
    "@time Matrix(F.Q)"
   ]
  },
  {
   "cell_type": "code",
   "execution_count": 15,
   "metadata": {},
   "outputs": [],
   "source": [
    "# @show norm(F.Q*F.R-ψ)\n",
    "# @show norm(F.Q'*F.Q-I)\n",
    "# @show norm(F.Q*F.Q'-I)"
   ]
  },
  {
   "cell_type": "code",
   "execution_count": 122,
   "metadata": {},
   "outputs": [
    {
     "name": "stdout",
     "output_type": "stream",
     "text": [
      "  1.110 ms (197 allocations: 19.28 MiB)\n"
     ]
    }
   ],
   "source": [
    "@btime begin\n",
    "    A = randn(500,1)\n",
    "    ϕ = randn(500)\n",
    "    for i=1:99\n",
    "    A = hcat(A, ϕ)\n",
    "    end\n",
    "end"
   ]
  },
  {
   "cell_type": "code",
   "execution_count": 109,
   "metadata": {},
   "outputs": [
    {
     "name": "stdout",
     "output_type": "stream",
     "text": [
      "  39.147 μs (181 allocations: 812.48 KiB)\n"
     ]
    }
   ],
   "source": [
    "@btime begin\n",
    "    G = qrfactUnblocked(view(ψ,:,1:1))\n",
    "    for i=2:20\n",
    "    G = updateqrfactUnblocked!(G, view(ψ,:,i))\n",
    "    end\n",
    "end"
   ]
  },
  {
   "cell_type": "code",
   "execution_count": 117,
   "metadata": {},
   "outputs": [
    {
     "name": "stdout",
     "output_type": "stream",
     "text": [
      "  0.000030 seconds (4 allocations: 1.172 KiB)\n",
      "  0.000008 seconds (3 allocations: 928 bytes)\n",
      "  0.000656 seconds (611 allocations: 399.688 KiB)\n"
     ]
    }
   ],
   "source": [
    "# https://discourse.julialang.org/t/extract-submatrix-from-qr-factor-is-slow-julia-1-4/36582/4\n",
    "# We want to avoid to form the Q matrix, instead, we want to leverage the Householder reflections\n",
    "# For steps 6. and 11. of Baptista et al. 2019\n",
    "@time q = (F.Q*ek) #2.852 μs (4 allocations: 1.17 KiB)\n",
    "@time (q'*u)*q #102.923 ns (3 allocations: 928 bytes)\n",
    "@time ((F.Q[:,end])'*u)*F.Q[:,end] #559.818 μs (610 allocations: 399.67 KiB);"
   ]
  }
 ],
 "metadata": {
  "kernelspec": {
   "display_name": "Julia 1.5.3",
   "language": "julia",
   "name": "julia-1.5"
  },
  "language_info": {
   "file_extension": ".jl",
   "mimetype": "application/julia",
   "name": "julia",
   "version": "1.5.3"
  }
 },
 "nbformat": 4,
 "nbformat_minor": 4
}
